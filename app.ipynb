{
 "cells": [
  {
   "cell_type": "code",
   "execution_count": 1,
   "metadata": {
    "ExecuteTime": {
     "end_time": "2025-03-20T11:42:56.272921700Z",
     "start_time": "2025-03-20T11:42:21.591766600Z"
    }
   },
   "outputs": [
    {
     "name": "stdout",
     "output_type": "stream",
     "text": [
      "WARNING:tensorflow:From C:\\Users\\Alonso\\Desktop\\Clase\\Master\\UPM\\TFM\\Trabajo\\venv\\Lib\\site-packages\\tf_keras\\src\\losses.py:2976: The name tf.losses.sparse_softmax_cross_entropy is deprecated. Please use tf.compat.v1.losses.sparse_softmax_cross_entropy instead.\n"
     ]
    }
   ],
   "source": [
    "import os\n",
    "import json\n",
    "import PyPDF2\n",
    "import boto3\n",
    "import nltk\n",
    "import jiwer\n",
    "from nltk.translate.bleu_score import sentence_bleu, SmoothingFunction\n",
    "from rouge import Rouge\n",
    "from tensorflow import keras\n",
    "from qdrant_client import QdrantClient\n",
    "from qdrant_client.http.models import PointStruct, VectorParams\n",
    "from sentence_transformers import SentenceTransformer"
   ]
  },
  {
   "cell_type": "code",
   "execution_count": 2,
   "metadata": {
    "ExecuteTime": {
     "end_time": "2025-03-20T11:42:58.966254Z",
     "start_time": "2025-03-20T11:42:56.276074300Z"
    }
   },
   "outputs": [],
   "source": [
    "# %% [markdown]\n",
    "# ## Paso 2: Configuración de Qdrant, Amazon Bedrock y variable de modelos\n",
    "# Ajusta el host/puerto de Qdrant y el ID del modelo de Amazon Bedrock según tu configuración.\n",
    "\n",
    "# Inicializamos el cliente de Qdrant\n",
    "qdrant = QdrantClient(host=\"localhost\", port=6333)  # Cambia estos parámetros según tu entorno\n",
    "collection_name = \"documentos\"\n",
    "\n",
    "# Variable de modelos (ejemplo); se debe configurar con el id del modelo en Amazon Bedrock\n",
    "modelos = {\n",
    "    \"Titan Embeddings G1 - Text\" : \"amazon.titan-embed-text-v1\",\n",
    "    \"Titan Text G1 - Lite\": \"amazon.titan-text-lite-v1\",\n",
    "    \"Titan Text G1 - Express\": \"amazon.titan-text-express-v1\",\n",
    "    \"\": \"\",\n",
    "    \"Rerank_1.0\": \"amazon.rerank-v1:0\",\n",
    "    \"Claude_3.5_Sonnet\" : \"anthropic.claude-3-5-sonnet-20240620-v1:0\",\n",
    "    \"Claude_3_Sonnet\": \"anthropic.claude-3-sonnet-20240229-v1:0\",\n",
    "    \"Claude_3_Haiku\" : \"anthropic.claude-3-5-haiku-20241022-v1:0\",\n",
    "    \"Claude_2.1\" : \"anthropic.claude-v2:1\",\n",
    "    \"Claude_Instant\" : \"anthropic.claude-instant-v1\",\n",
    "    \"Claude\": \"anthropic.claude-v2:0\"\n",
    "}\n",
    "\n",
    "# Inicializamos el cliente de Amazon Bedrock\n",
    "bedrock = boto3.client('bedrock-runtime')"
   ]
  },
  {
   "cell_type": "code",
   "execution_count": 3,
   "metadata": {
    "ExecuteTime": {
     "end_time": "2025-03-20T11:43:02.562076100Z",
     "start_time": "2025-03-20T11:42:58.968306400Z"
    }
   },
   "outputs": [
    {
     "name": "stdout",
     "output_type": "stream",
     "text": [
      "Leyendo el PDF...\n",
      "PDF leído correctamente.\n"
     ]
    }
   ],
   "source": [
    "# %% [markdown]\n",
    "# ## Paso 3: Función para leer el PDF y extraer el texto\n",
    "\n",
    "def read_pdf(file_path):\n",
    "    \"\"\"Lee un PDF y extrae todo su texto.\"\"\"\n",
    "    text = \"\"\n",
    "    with open(file_path, 'rb') as pdf_file:\n",
    "        pdf_reader = PyPDF2.PdfReader(pdf_file)\n",
    "        for page in pdf_reader.pages:\n",
    "            page_text = page.extract_text()\n",
    "            if page_text:\n",
    "                text += page_text + \"\\n\"\n",
    "    return text\n",
    "\n",
    "# Ruta al documento\n",
    "pdf_path = \"documento.pdf\"\n",
    "print(\"Leyendo el PDF...\")\n",
    "document_text = read_pdf(pdf_path)\n",
    "print(\"PDF leído correctamente.\")"
   ]
  },
  {
   "cell_type": "code",
   "execution_count": 4,
   "metadata": {
    "ExecuteTime": {
     "end_time": "2025-03-20T11:43:02.563127600Z",
     "start_time": "2025-03-20T11:43:02.557022Z"
    }
   },
   "outputs": [
    {
     "name": "stdout",
     "output_type": "stream",
     "text": [
      "Dividiendo el documento en chunks...\n",
      "Total de chunks generados: 478\n"
     ]
    }
   ],
   "source": [
    "# %% [markdown]\n",
    "# ## Paso 4: Función para dividir el texto en chunks\n",
    "# Se define un tamaño de chunk y un solapamiento para conservar contexto entre ellos.\n",
    "\n",
    "def chunk_text(text, chunk_size=1000, overlap=100):\n",
    "    \"\"\"\n",
    "    Divide el texto en chunks de `chunk_size` caracteres con un solapamiento de `overlap` caracteres.\n",
    "    \"\"\"\n",
    "    chunks = []\n",
    "    start = 0\n",
    "    while start < len(text):\n",
    "        end = start + chunk_size\n",
    "        chunk = text[start:end]\n",
    "        chunks.append(chunk)\n",
    "        start += (chunk_size - overlap)\n",
    "    return chunks\n",
    "\n",
    "print(\"Dividiendo el documento en chunks...\")\n",
    "chunks = chunk_text(document_text, chunk_size=1000, overlap=100)\n",
    "print(f\"Total de chunks generados: {len(chunks)}\")"
   ]
  },
  {
   "cell_type": "code",
   "execution_count": 5,
   "metadata": {
    "ExecuteTime": {
     "end_time": "2025-03-20T11:43:16.923791900Z",
     "start_time": "2025-03-20T11:43:02.564168600Z"
    }
   },
   "outputs": [
    {
     "name": "stdout",
     "output_type": "stream",
     "text": [
      "Computando embeddings de los chunks...\n"
     ]
    },
    {
     "data": {
      "text/plain": "Batches:   0%|          | 0/15 [00:00<?, ?it/s]",
      "application/vnd.jupyter.widget-view+json": {
       "version_major": 2,
       "version_minor": 0,
       "model_id": "f54b94f5772b4e5583c63eb36395d0d6"
      }
     },
     "metadata": {},
     "output_type": "display_data"
    },
    {
     "name": "stdout",
     "output_type": "stream",
     "text": [
      "Subiendo los embeddings a Qdrant...\n",
      "Embeddings subidos correctamente.\n"
     ]
    }
   ],
   "source": [
    "# %% [markdown]\n",
    "# ## Paso 5: Calcular embeddings y subir a Qdrant\n",
    "# Se usa un modelo de SentenceTransformer para obtener los embeddings de cada chunk.\n",
    "# Si la colección en Qdrant no existe, se crea con la dimensión correcta.\n",
    "\n",
    "# Inicializamos el modelo de embeddings\n",
    "embedder = SentenceTransformer('all-MiniLM-L6-v2')\n",
    "\n",
    "# Obtenemos la dimensión del embedding\n",
    "dimension = embedder.get_sentence_embedding_dimension()\n",
    "\n",
    "# Creamos la colección en Qdrant si no existe\n",
    "collections = qdrant.get_collections().collections\n",
    "if not any(col.name == collection_name for col in collections):\n",
    "    print(\"Creando colección en Qdrant...\")\n",
    "    qdrant.create_collection(\n",
    "         collection_name=collection_name,\n",
    "         vectors_config=VectorParams(size=dimension, distance=\"Cosine\")\n",
    "    )\n",
    "    print(\"Colección creada.\")\n",
    "\n",
    "print(\"Computando embeddings de los chunks...\")\n",
    "embeddings = embedder.encode(chunks, show_progress_bar=True)\n",
    "\n",
    "# Preparamos los puntos (cada punto asocia un chunk y su embedding)\n",
    "points = []\n",
    "for i, (chunk, vector) in enumerate(zip(chunks, embeddings)):\n",
    "    points.append(PointStruct(\n",
    "         id=i,\n",
    "         vector=vector.tolist(),\n",
    "         payload={\"text\": chunk}\n",
    "    ))\n",
    "\n",
    "print(\"Subiendo los embeddings a Qdrant...\")\n",
    "qdrant.upsert(collection_name=collection_name, points=points)\n",
    "print(\"Embeddings subidos correctamente.\")"
   ]
  },
  {
   "cell_type": "code",
   "execution_count": 6,
   "metadata": {
    "ExecuteTime": {
     "end_time": "2025-03-20T11:43:16.924539400Z",
     "start_time": "2025-03-20T11:43:16.918431100Z"
    }
   },
   "outputs": [],
   "source": [
    "# %% [markdown]\n",
    "# ## Paso 6: Función para recuperar chunks relevantes desde Qdrant\n",
    "# Dada una query, se calcula su embedding y se buscan los chunks más similares.\n",
    "\n",
    "def get_relevant_chunks(query, top_k=5):\n",
    "    \"\"\"\n",
    "    Dada una query, recupera los `top_k` chunks más relevantes desde Qdrant.\n",
    "    \"\"\"\n",
    "    query_embedding = embedder.encode(query)\n",
    "    search_result = qdrant.search(\n",
    "         collection_name=collection_name,\n",
    "         query_vector=query_embedding.tolist(),\n",
    "         limit=top_k\n",
    "    )\n",
    "    # Extraemos el texto de cada chunk recuperado\n",
    "    contexts = [res.payload.get(\"text\", \"\") for res in search_result]\n",
    "    return contexts"
   ]
  },
  {
   "cell_type": "code",
   "execution_count": 7,
   "metadata": {
    "ExecuteTime": {
     "end_time": "2025-03-20T11:43:16.925875900Z",
     "start_time": "2025-03-20T11:43:16.922747200Z"
    }
   },
   "outputs": [],
   "source": [
    "def ask_question(query, modelo, top_k=5):\n",
    "    # Recupera los chunks relevantes y construye el contexto\n",
    "    contexts = get_relevant_chunks(query, top_k=top_k)\n",
    "    context_text = \"\\n\".join(contexts)\n",
    "    \n",
    "    # Define el mensaje de sistema que contiene instrucciones y el contexto.\n",
    "    # En este ejemplo se indica que se debe responder en pocas palabras.\n",
    "    system_message = f\"Answer the question based on the following context shortly:\\n{context_text}\"\n",
    "    \n",
    "    # Define el mensaje del usuario con la consulta.\n",
    "    messages = [{\"role\": \"user\", \"content\": query}]\n",
    "    \n",
    "    # Construye el payload utilizando la estructura que funcionó en tu prueba.\n",
    "    payload = {\n",
    "        \"anthropic_version\": \"bedrock-2023-05-31\",  \n",
    "        \"system\": system_message,\n",
    "        \"messages\": messages,\n",
    "        \"max_tokens\": 100,\n",
    "        \"temperature\": 0.8,\n",
    "        \"top_p\": 0.8,\n",
    "    }\n",
    "    \n",
    "    # Convierte el payload a JSON\n",
    "    payload_json = json.dumps(payload)\n",
    "    \n",
    "    # Selecciona el id del modelo a partir del diccionario 'modelos'\n",
    "    model_id = modelos.get(modelo)\n",
    "    \n",
    "    # Invoca el modelo en Amazon Bedrock\n",
    "    response = bedrock.invoke_model(\n",
    "         modelId=model_id,\n",
    "         contentType=\"application/json\",\n",
    "         body=payload_json\n",
    "    )\n",
    "    \n",
    "    # Procesa la respuesta (para modelos Anthropic la respuesta suele estar en la clave \"content\")\n",
    "    response_body = json.loads(response[\"body\"].read().decode(\"utf-8\"))\n",
    "    return response_body.get(\"content\", response_body)\n"
   ]
  },
  {
   "cell_type": "code",
   "execution_count": 8,
   "metadata": {
    "ExecuteTime": {
     "end_time": "2025-03-20T11:43:16.930749300Z",
     "start_time": "2025-03-20T11:43:16.928120900Z"
    }
   },
   "outputs": [],
   "source": [
    "def extract_answer_text(generated_answer):\n",
    "    \"\"\"\n",
    "    Given the generated answer, which may be a list of dicts or a string,\n",
    "    extract and return the plain text.\n",
    "    \"\"\"\n",
    "    if isinstance(generated_answer, list) and len(generated_answer) > 0:\n",
    "        # Assume the answer is in the first element under the \"text\" key\n",
    "        return generated_answer[0].get(\"text\", \"\").strip()\n",
    "    elif isinstance(generated_answer, str):\n",
    "        return generated_answer.strip()\n",
    "    else:\n",
    "        return str(generated_answer).strip()\n",
    "\n",
    "# Modified evaluation function to include the expected answer (for later comparison)\n",
    "def evaluate_qa_pairs(qa_pairs, model_name=\"Claude_3.5_Sonnet\"):\n",
    "    results = []\n",
    "    for qa in qa_pairs:\n",
    "        question = qa[\"Q\"]\n",
    "        expected_answer = qa[\"A\"]\n",
    "        print(f\"Evaluando pregunta: {question}\")\n",
    "        \n",
    "        # Get the generated answer from RAG\n",
    "        generated_answer = ask_question(question, model_name)\n",
    "        answer_text = extract_answer_text(generated_answer)\n",
    "        \n",
    "        result = {\n",
    "            \"question\": question,\n",
    "            \"expected_answer\": expected_answer,\n",
    "            \"generated_answer\": answer_text\n",
    "        }\n",
    "        results.append(result)\n",
    "    return results"
   ]
  },
  {
   "cell_type": "code",
   "outputs": [],
   "source": [
    "with open(\"Expert-questions.json\", \"r\", encoding=\"utf-8\") as f:\n",
    "    expert_qa = json.load(f)\n",
    "\n",
    "with open(\"Not-expert-questions.json\", \"r\", encoding=\"utf-8\") as f:\n",
    "    non_expert_qa = json.load(f)"
   ],
   "metadata": {
    "collapsed": false,
    "ExecuteTime": {
     "end_time": "2025-03-20T11:43:16.935935900Z",
     "start_time": "2025-03-20T11:43:16.931790600Z"
    }
   },
   "execution_count": 9
  },
  {
   "cell_type": "code",
   "execution_count": 10,
   "metadata": {
    "ExecuteTime": {
     "end_time": "2025-03-20T11:50:23.844848100Z",
     "start_time": "2025-03-20T11:43:16.936982Z"
    }
   },
   "outputs": [
    {
     "name": "stdout",
     "output_type": "stream",
     "text": [
      "Evaluando pregunta: ¿Qué son los riesgos ESG?\n"
     ]
    },
    {
     "name": "stderr",
     "output_type": "stream",
     "text": [
      "C:\\Users\\Alonso\\AppData\\Local\\Temp\\ipykernel_30988\\1406710426.py:10: DeprecationWarning: `search` method is deprecated and will be removed in the future. Use `query_points` instead.\n",
      "  search_result = qdrant.search(\n"
     ]
    },
    {
     "name": "stdout",
     "output_type": "stream",
     "text": [
      "Evaluando pregunta: ¿Cuál es el objetivo principal de estas directrices ESG?\n",
      "Evaluando pregunta: ¿Por qué es importante que las instituciones gestionen los riesgos ESG?\n",
      "Evaluando pregunta: ¿Qué se entiende por riesgo ambiental en este contexto?\n",
      "Evaluando pregunta: ¿Qué significa “riesgo de transición”?\n",
      "Evaluando pregunta: ¿Qué son los riesgos físicos en el ámbito ESG?\n",
      "Evaluando pregunta: ¿Qué papel tiene el EBA en la gestión de riesgos ESG?\n",
      "Evaluando pregunta: ¿Cómo deben integrar las instituciones los riesgos ESG en su gestión?\n",
      "Evaluando pregunta: ¿Qué es una evaluación de materialidad en riesgos ESG?\n",
      "Evaluando pregunta: ¿Qué debe incluir un plan de transición ESG?\n",
      "Evaluando pregunta: ¿Qué horizonte temporal se considera para los riesgos ESG?\n",
      "Evaluando pregunta: ¿Qué herramientas se pueden utilizar para medir los riesgos ESG?\n",
      "Evaluando pregunta: ¿Qué es un análisis de escenarios en este contexto?\n",
      "Evaluando pregunta: ¿Cómo se relacionan los riesgos ESG con la sostenibilidad?\n",
      "Evaluando pregunta: ¿Qué impacto pueden tener los riesgos ESG en la solvencia de una institución?\n",
      "Evaluando pregunta: ¿Cómo se comunica la información sobre riesgos ESG?\n",
      "Evaluando pregunta: ¿Qué importancia tiene la gobernanza en la gestión de riesgos ESG?\n",
      "Evaluando pregunta: ¿Cuáles son los principales desafíos en la medición de riesgos ESG?\n",
      "Evaluando pregunta: ¿Qué es el riesgo de reputación en relación con ESG?\n",
      "Evaluando pregunta: ¿Por qué es fundamental la integración de datos en la evaluación de riesgos ESG?\n",
      "Evaluando pregunta: ¿Qué significa que una institución debe evaluar los riesgos ESG a corto, mediano y largo plazo?\n",
      "Evaluando pregunta: ¿Por qué se requiere actualizar la evaluación de materialidad de riesgos ESG periódicamente?\n",
      "Evaluando pregunta: ¿De qué manera ayuda el análisis de escenarios a la toma de decisiones en riesgos ESG?\n",
      "Evaluando pregunta: ¿Cómo pueden los riesgos ESG influir en la reputación de una institución?\n",
      "Evaluando pregunta: ¿Qué se entiende por 'riesgo social' en el contexto ESG?\n",
      "Evaluando pregunta: ¿Cómo ayudan las directrices ESG a mejorar la gestión de riesgos en las instituciones financieras?\n",
      "Evaluando pregunta: ¿Qué es un 'KRI' y por qué es importante en el seguimiento de riesgos ESG?\n",
      "Evaluando pregunta: ¿De qué forma se relacionan los riesgos ESG con la sostenibilidad empresarial?\n",
      "Evaluando pregunta: ¿Qué significa que los riesgos ESG puedan afectar los riesgos tradicionales, como el crédito o el mercado?\n",
      "Evaluando pregunta: ¿Por qué es importante que las instituciones recopilen datos específicos sobre sus exposiciones a riesgos ESG?\n",
      "Evaluando pregunta: ¿Qué papel tienen los datos de sostenibilidad de terceros en la evaluación de riesgos ESG?\n",
      "Evaluando pregunta: ¿Cómo se relaciona el plan de transición con la gestión de riesgos ESG?\n",
      "Evaluando pregunta: ¿Qué significa que las directrices consideren un horizonte a 10 años para la evaluación de riesgos?\n",
      "Evaluando pregunta: ¿Cómo puede afectar el cambio climático a las operaciones de una institución financiera?\n",
      "Evaluando pregunta: ¿Por qué es necesario integrar tanto datos cuantitativos como cualitativos en la evaluación de riesgos ESG?\n",
      "Evaluando pregunta: ¿Qué implica el término 'materialidad' en la gestión de riesgos ESG?\n",
      "Evaluando pregunta: ¿Qué beneficios trae a una institución la actualización periódica de su evaluación ESG?\n",
      "Evaluando pregunta: ¿Cómo influyen las políticas públicas en la gestión de riesgos ESG?\n",
      "Evaluando pregunta: ¿Qué papel juega la tecnología en la recopilación y análisis de datos para riesgos ESG?\n",
      "Evaluando pregunta: ¿Cómo pueden los clientes y stakeholders influir en la gestión de riesgos ESG de una institución?\n",
      "Evaluando pregunta: ¿Cuáles son los principales componentes metodológicos para identificar y medir los riesgos ESG?\n",
      "Evaluando pregunta: ¿Cómo debe realizarse la evaluación de materialidad en el contexto ESG?\n",
      "Evaluando pregunta: ¿Qué criterios se utilizan para determinar la materialidad de un riesgo ESG?\n",
      "Evaluando pregunta: ¿Cómo se integran los riesgos ESG en los procesos de ICAAP e ILAAP?\n",
      "Evaluando pregunta: ¿Qué papel juegan los análisis de escenarios en la gestión de riesgos ESG?\n",
      "Evaluando pregunta: ¿Cuáles son los desafíos en la obtención y calidad de datos para evaluar riesgos ESG?\n",
      "Evaluando pregunta: ¿Qué implicaciones tiene la integración de riesgos ESG en el apetito de riesgo de una institución?\n",
      "Evaluando pregunta: ¿Cómo se aplican las metodologías de alineación de cartera en el análisis ESG?\n",
      "Evaluando pregunta: ¿Qué importancia tienen las evaluaciones de vulnerabilidad a riesgos físicos?\n",
      "Evaluando pregunta: ¿De qué forma se integran los riesgos de transición en los modelos de scoring crediticio?\n",
      "Evaluando pregunta: ¿Qué medidas de mitigación se recomiendan para gestionar riesgos ESG en carteras crediticias?\n",
      "Evaluando pregunta: ¿Cómo deben documentarse las metodologías y supuestos en la evaluación ESG?\n",
      "Evaluando pregunta: ¿Qué rol desempeñan los KRIs en la monitorización de riesgos ESG?\n",
      "Evaluando pregunta: ¿Cómo se deben integrar los riesgos ESG en la estructura de gobernanza interna?\n",
      "Evaluando pregunta: ¿Qué papel tienen los datos externos y de terceros en la evaluación de riesgos ESG?\n",
      "Evaluando pregunta: ¿Cómo se aborda la incertidumbre inherente a la medición de riesgos ESG?\n",
      "Evaluando pregunta: ¿Qué implicaciones regulatorias tienen estas directrices ESG para las instituciones financieras?\n",
      "Evaluando pregunta: ¿Cómo se relaciona el análisis ESG con los objetivos de sostenibilidad a largo plazo?\n",
      "Evaluando pregunta: ¿Qué papel desempeñan los planes de transición en la mitigación de riesgos ESG?\n",
      "Evaluando pregunta: ¿Cómo puede la integración de riesgos ESG mejorar la competitividad de una institución?\n",
      "Evaluando pregunta: ¿Cuál es la fecha de aplicación de las directrices para instituciones grandes y para SNCIs?\n",
      "Evaluando pregunta: ¿De qué forma se aborda el principio de proporcionalidad en la gestión de riesgos ESG según estas directrices?\n",
      "Evaluando pregunta: ¿Qué cambios legislativos han impulsado la emisión de estas directrices ESG?\n",
      "Evaluando pregunta: ¿Cómo se integra el análisis de riesgos ESG en la evaluación de riesgos operacionales y reputacionales?\n",
      "Evaluando pregunta: ¿Qué papel juegan las directrices ESG en la estrategia de transición de las instituciones financieras?\n",
      "Evaluando pregunta: ¿Cómo se vinculan estas directrices ESG con los objetivos de la European Green Deal y la legislación sobre sostenibilidad?\n",
      "Evaluando pregunta: ¿Qué requisitos específicos se establecen para la gestión de riesgos ambientales frente a riesgos sociales y de gobernanza?\n",
      "Evaluando pregunta: ¿Cómo se debe estructurar un plan de transición según estas directrices ESG?\n",
      "Evaluando pregunta: ¿Qué papel tiene la resiliencia a largo plazo (mínimo 10 años) en el enfoque de estas directrices ESG?\n",
      "Evaluando pregunta: ¿Qué consideraciones se deben tener en cuenta para el uso de proxies y estimaciones en la medición de riesgos ESG?\n",
      "Evaluando pregunta: ¿Cómo contribuyen estas directrices a la convergencia de prácticas en el ámbito de ESG a nivel europeo?\n",
      "Evaluando pregunta: ¿Qué diferencias existen en la aplicación de estas directrices entre instituciones grandes y SNCIs?\n",
      "Evaluando pregunta: ¿Qué medidas de reporte y comunicación se exigen para el cumplimiento de las directrices ESG?\n",
      "Evaluando pregunta: ¿De qué forma se reflejan los resultados de la evaluación de materialidad ESG en el ICAAP de la institución?\n",
      "Evaluando pregunta: ¿Qué interrelación existe entre los riesgos ESG y los riesgos tradicionales según estas directrices?\n",
      "Evaluando pregunta: ¿Cómo se evalúa el impacto de la degradación de la biodiversidad en el análisis de riesgos ESG?\n",
      "Evaluando pregunta: ¿Qué metodologías se recomiendan para cuantificar los riesgos físicos relacionados con eventos climáticos extremos?\n",
      "Evaluando pregunta: ¿De qué manera se aborda la incertidumbre en las proyecciones de escenarios a largo plazo en el análisis ESG?\n",
      "Evaluando pregunta: ¿Qué criterios deben utilizarse para validar la calidad de los datos externos en el análisis ESG?\n",
      "Evaluando pregunta: ¿Cuál es el rol de la supervisión prudencial en la aplicación de estas directrices ESG?\n"
     ]
    }
   ],
   "source": [
    "\n",
    "\n",
    "# Evaluar ambos conjuntos de preguntas\n",
    "non_expert_results = evaluate_qa_pairs(non_expert_qa, model_name=\"Claude_3.5_Sonnet\")\n",
    "expert_results = evaluate_qa_pairs(expert_qa, model_name=\"Claude_3.5_Sonnet\")"
   ]
  },
  {
   "cell_type": "code",
   "execution_count": 11,
   "metadata": {
    "ExecuteTime": {
     "end_time": "2025-03-20T11:50:23.851007600Z",
     "start_time": "2025-03-20T11:50:23.847889700Z"
    }
   },
   "outputs": [],
   "source": [
    "# Imprimir las respuestas obtenidas\n",
    "# print(\"\\nResultados para preguntas no expertas:\")\n",
    "# for res in non_expert_results:\n",
    "#     print(f\"Pregunta: {res['question']}\\nRespuesta: {res['answer']}\\n\")\n",
    "# \n",
    "# print(\"\\nResultados para preguntas expertas:\")\n",
    "# for res in expert_results:\n",
    "#     print(f\"Pregunta: {res['question']}\\nRespuesta: {res['answer']}\\n\")"
   ]
  },
  {
   "cell_type": "code",
   "outputs": [],
   "source": [
    "# Save the results to separate JSON files\n",
    "with open(\"non_expert_results.json\", \"w\", encoding=\"utf-8\") as f:\n",
    "    json.dump(non_expert_results, f, ensure_ascii=False, indent=4)\n",
    "\n",
    "with open(\"expert_results.json\", \"w\", encoding=\"utf-8\") as f:\n",
    "    json.dump(expert_results, f, ensure_ascii=False, indent=4)"
   ],
   "metadata": {
    "collapsed": false,
    "ExecuteTime": {
     "end_time": "2025-03-20T11:50:23.858520700Z",
     "start_time": "2025-03-20T11:50:23.849965200Z"
    }
   },
   "execution_count": 12
  },
  {
   "cell_type": "code",
   "outputs": [],
   "source": [],
   "metadata": {
    "collapsed": false,
    "ExecuteTime": {
     "end_time": "2025-03-20T11:50:23.864605100Z",
     "start_time": "2025-03-20T11:50:23.859378800Z"
    }
   },
   "execution_count": 12
  },
  {
   "cell_type": "code",
   "outputs": [],
   "source": [
    "def get_rerank_score(query, chunk, rerank_model):\n",
    "    \"\"\"\n",
    "    Uses the rerank model to obtain a relevance score for a given chunk and query.\n",
    "    The model is expected to return a numeric score between 0 and 1.\n",
    "    \"\"\"\n",
    "    payload = {\n",
    "        \"query\": query,\n",
    "        \"documents\": [chunk]\n",
    "    }\n",
    "    payload_json = json.dumps(payload)\n",
    "    model_id = modelos.get(rerank_model)\n",
    "    \n",
    "    response = bedrock.invoke_model(\n",
    "         modelId=model_id,\n",
    "         contentType=\"application/json\",\n",
    "         body=payload_json\n",
    "    )\n",
    "    response_body = json.loads(response[\"body\"].read().decode(\"utf-8\"))\n",
    "    # Adjust the key \"output\" if necessary – here we assume it's a string number.\n",
    "    try:\n",
    "        score = float(response_body.get(\"output\", 0))\n",
    "    except Exception:\n",
    "        score = 0.0  # Default score if conversion fails\n",
    "    return score\n",
    "\n",
    "\n",
    "def advanced_ask_question(query, generation_model, rerank_model, retrieval_top_k=10, rerank_top_k=5):\n",
    "    \"\"\"\n",
    "    Advanced RAG: retrieves candidate chunks, reranks them using the rerank model,\n",
    "    builds the context with the top-scoring chunks, and then generates a response.\n",
    "    \"\"\"\n",
    "    # Retrieve a larger set of candidate chunks for reranking\n",
    "    candidate_chunks = get_relevant_chunks(query, top_k=retrieval_top_k)\n",
    "    \n",
    "    # Rerank candidate chunks\n",
    "    scored_chunks = []\n",
    "    for chunk in candidate_chunks:\n",
    "        score = get_rerank_score(query, chunk, rerank_model)\n",
    "        scored_chunks.append((chunk, score))\n",
    "    \n",
    "    # Sort chunks by score in descending order\n",
    "    scored_chunks.sort(key=lambda x: x[1], reverse=True)\n",
    "    \n",
    "    # Select the top-ranked chunks\n",
    "    top_chunks = [chunk for chunk, score in scored_chunks[:rerank_top_k]]\n",
    "    context_text = \"\\n\".join(top_chunks)\n",
    "    \n",
    "    system_message = f\"Answer the question based on the following context shortly, in at most 5 words:\\n{context_text}\"\n",
    "    \n",
    "    # Define el mensaje del usuario con la consulta.\n",
    "    messages = [{\"role\": \"user\", \"content\": query}]\n",
    "    \n",
    "    # Build payload for the generation model using the updated keys\n",
    "    payload = {\n",
    "        \"anthropic_version\": \"bedrock-2023-05-31\",  \n",
    "        \"system\": system_message,\n",
    "        \"messages\": messages,\n",
    "        \"max_tokens\": 100,\n",
    "        \"temperature\": 0.8,\n",
    "        \"top_p\": 0.8,\n",
    "    }\n",
    "    \n",
    "    payload_json = json.dumps(payload)\n",
    "    model_id = modelos.get(generation_model)\n",
    "    \n",
    "    response = bedrock.invoke_model(\n",
    "         modelId=model_id,\n",
    "         contentType=\"application/json\",\n",
    "         body=payload_json\n",
    "    )\n",
    "    \n",
    "    response_body = json.loads(response[\"body\"].read().decode(\"utf-8\"))\n",
    "    return response_body.get(\"output\", response_body)\n",
    "\n",
    "def extract_answer_text_advanced(generated_answer):\n",
    "    \"\"\"\n",
    "    Given the generated answer, which may be a list of dicts or a string,\n",
    "    extract and return the plain text.\n",
    "    \"\"\"\n",
    "    \n",
    "    print(generated_answer)\n",
    "    ans = json.loads(generated_answer)\n",
    "    \n",
    "    if isinstance(ans, list) and len(generated_answer) > 0:\n",
    "        # Assume the answer is in the first element under the \"text\" key\n",
    "        return generated_answer[\"content\"][0].strip()\n",
    "    elif isinstance(generated_answer, str):\n",
    "        return generated_answer.strip()\n",
    "    else:\n",
    "        return str(generated_answer).strip()\n",
    "\n",
    "def advanced_evaluate_qa_pairs(qa_pairs, generation_model=\"Claude_3.5_Sonnet\", rerank_model=\"Rerank_1.0\"):\n",
    "    results = []\n",
    "    for qa in qa_pairs:\n",
    "        question = qa[\"Q\"]\n",
    "        expected_answer = qa[\"A\"]\n",
    "        print(f\"Evaluando (advanced) pregunta: {question}\")\n",
    "        \n",
    "        # Obtener la respuesta generada usando advanced RAG con rerank\n",
    "        generated_answer = advanced_ask_question(question, generation_model, rerank_model)\n",
    "        answer_text = generated_answer[\"content\"][0][\"text\"]\n",
    "        \n",
    "        result = {\n",
    "            \"question\": question,\n",
    "            \"expected_answer\": expected_answer,\n",
    "            \"generated_answer\": answer_text\n",
    "        }\n",
    "        results.append(result)\n",
    "    return results\n",
    "\n"
   ],
   "metadata": {
    "collapsed": false,
    "ExecuteTime": {
     "end_time": "2025-03-20T11:50:23.873626300Z",
     "start_time": "2025-03-20T11:50:23.863564800Z"
    }
   },
   "execution_count": 13
  },
  {
   "cell_type": "code",
   "outputs": [
    {
     "name": "stdout",
     "output_type": "stream",
     "text": [
      "Evaluando (advanced) pregunta: ¿Qué son los riesgos ESG?\n"
     ]
    },
    {
     "name": "stderr",
     "output_type": "stream",
     "text": [
      "C:\\Users\\Alonso\\AppData\\Local\\Temp\\ipykernel_30988\\1406710426.py:10: DeprecationWarning: `search` method is deprecated and will be removed in the future. Use `query_points` instead.\n",
      "  search_result = qdrant.search(\n"
     ]
    },
    {
     "name": "stdout",
     "output_type": "stream",
     "text": [
      "Evaluando (advanced) pregunta: ¿Cuál es el objetivo principal de estas directrices ESG?\n",
      "Evaluando (advanced) pregunta: ¿Por qué es importante que las instituciones gestionen los riesgos ESG?\n",
      "Evaluando (advanced) pregunta: ¿Qué se entiende por riesgo ambiental en este contexto?\n",
      "Evaluando (advanced) pregunta: ¿Qué significa “riesgo de transición”?\n",
      "Evaluando (advanced) pregunta: ¿Qué son los riesgos físicos en el ámbito ESG?\n",
      "Evaluando (advanced) pregunta: ¿Qué papel tiene el EBA en la gestión de riesgos ESG?\n",
      "Evaluando (advanced) pregunta: ¿Cómo deben integrar las instituciones los riesgos ESG en su gestión?\n",
      "Evaluando (advanced) pregunta: ¿Qué es una evaluación de materialidad en riesgos ESG?\n",
      "Evaluando (advanced) pregunta: ¿Qué debe incluir un plan de transición ESG?\n",
      "Evaluando (advanced) pregunta: ¿Qué horizonte temporal se considera para los riesgos ESG?\n",
      "Evaluando (advanced) pregunta: ¿Qué herramientas se pueden utilizar para medir los riesgos ESG?\n",
      "Evaluando (advanced) pregunta: ¿Qué es un análisis de escenarios en este contexto?\n",
      "Evaluando (advanced) pregunta: ¿Cómo se relacionan los riesgos ESG con la sostenibilidad?\n",
      "Evaluando (advanced) pregunta: ¿Qué impacto pueden tener los riesgos ESG en la solvencia de una institución?\n",
      "Evaluando (advanced) pregunta: ¿Cómo se comunica la información sobre riesgos ESG?\n",
      "Evaluando (advanced) pregunta: ¿Qué importancia tiene la gobernanza en la gestión de riesgos ESG?\n",
      "Evaluando (advanced) pregunta: ¿Cuáles son los principales desafíos en la medición de riesgos ESG?\n",
      "Evaluando (advanced) pregunta: ¿Qué es el riesgo de reputación en relación con ESG?\n",
      "Evaluando (advanced) pregunta: ¿Por qué es fundamental la integración de datos en la evaluación de riesgos ESG?\n",
      "Evaluando (advanced) pregunta: ¿Qué significa que una institución debe evaluar los riesgos ESG a corto, mediano y largo plazo?\n",
      "Evaluando (advanced) pregunta: ¿Por qué se requiere actualizar la evaluación de materialidad de riesgos ESG periódicamente?\n",
      "Evaluando (advanced) pregunta: ¿De qué manera ayuda el análisis de escenarios a la toma de decisiones en riesgos ESG?\n",
      "Evaluando (advanced) pregunta: ¿Cómo pueden los riesgos ESG influir en la reputación de una institución?\n",
      "Evaluando (advanced) pregunta: ¿Qué se entiende por 'riesgo social' en el contexto ESG?\n",
      "Evaluando (advanced) pregunta: ¿Cómo ayudan las directrices ESG a mejorar la gestión de riesgos en las instituciones financieras?\n",
      "Evaluando (advanced) pregunta: ¿Qué es un 'KRI' y por qué es importante en el seguimiento de riesgos ESG?\n",
      "Evaluando (advanced) pregunta: ¿De qué forma se relacionan los riesgos ESG con la sostenibilidad empresarial?\n",
      "Evaluando (advanced) pregunta: ¿Qué significa que los riesgos ESG puedan afectar los riesgos tradicionales, como el crédito o el mercado?\n",
      "Evaluando (advanced) pregunta: ¿Por qué es importante que las instituciones recopilen datos específicos sobre sus exposiciones a riesgos ESG?\n",
      "Evaluando (advanced) pregunta: ¿Qué papel tienen los datos de sostenibilidad de terceros en la evaluación de riesgos ESG?\n",
      "Evaluando (advanced) pregunta: ¿Cómo se relaciona el plan de transición con la gestión de riesgos ESG?\n",
      "Evaluando (advanced) pregunta: ¿Qué significa que las directrices consideren un horizonte a 10 años para la evaluación de riesgos?\n",
      "Evaluando (advanced) pregunta: ¿Cómo puede afectar el cambio climático a las operaciones de una institución financiera?\n",
      "Evaluando (advanced) pregunta: ¿Por qué es necesario integrar tanto datos cuantitativos como cualitativos en la evaluación de riesgos ESG?\n",
      "Evaluando (advanced) pregunta: ¿Qué implica el término 'materialidad' en la gestión de riesgos ESG?\n",
      "Evaluando (advanced) pregunta: ¿Qué beneficios trae a una institución la actualización periódica de su evaluación ESG?\n",
      "Evaluando (advanced) pregunta: ¿Cómo influyen las políticas públicas en la gestión de riesgos ESG?\n",
      "Evaluando (advanced) pregunta: ¿Qué papel juega la tecnología en la recopilación y análisis de datos para riesgos ESG?\n",
      "Evaluando (advanced) pregunta: ¿Cómo pueden los clientes y stakeholders influir en la gestión de riesgos ESG de una institución?\n",
      "Evaluando (advanced) pregunta: ¿Cuáles son los principales componentes metodológicos para identificar y medir los riesgos ESG?\n",
      "Evaluando (advanced) pregunta: ¿Cómo debe realizarse la evaluación de materialidad en el contexto ESG?\n",
      "Evaluando (advanced) pregunta: ¿Qué criterios se utilizan para determinar la materialidad de un riesgo ESG?\n",
      "Evaluando (advanced) pregunta: ¿Cómo se integran los riesgos ESG en los procesos de ICAAP e ILAAP?\n",
      "Evaluando (advanced) pregunta: ¿Qué papel juegan los análisis de escenarios en la gestión de riesgos ESG?\n",
      "Evaluando (advanced) pregunta: ¿Cuáles son los desafíos en la obtención y calidad de datos para evaluar riesgos ESG?\n",
      "Evaluando (advanced) pregunta: ¿Qué implicaciones tiene la integración de riesgos ESG en el apetito de riesgo de una institución?\n",
      "Evaluando (advanced) pregunta: ¿Cómo se aplican las metodologías de alineación de cartera en el análisis ESG?\n",
      "Evaluando (advanced) pregunta: ¿Qué importancia tienen las evaluaciones de vulnerabilidad a riesgos físicos?\n",
      "Evaluando (advanced) pregunta: ¿De qué forma se integran los riesgos de transición en los modelos de scoring crediticio?\n",
      "Evaluando (advanced) pregunta: ¿Qué medidas de mitigación se recomiendan para gestionar riesgos ESG en carteras crediticias?\n",
      "Evaluando (advanced) pregunta: ¿Cómo deben documentarse las metodologías y supuestos en la evaluación ESG?\n",
      "Evaluando (advanced) pregunta: ¿Qué rol desempeñan los KRIs en la monitorización de riesgos ESG?\n",
      "Evaluando (advanced) pregunta: ¿Cómo se deben integrar los riesgos ESG en la estructura de gobernanza interna?\n",
      "Evaluando (advanced) pregunta: ¿Qué papel tienen los datos externos y de terceros en la evaluación de riesgos ESG?\n",
      "Evaluando (advanced) pregunta: ¿Cómo se aborda la incertidumbre inherente a la medición de riesgos ESG?\n",
      "Evaluando (advanced) pregunta: ¿Qué implicaciones regulatorias tienen estas directrices ESG para las instituciones financieras?\n",
      "Evaluando (advanced) pregunta: ¿Cómo se relaciona el análisis ESG con los objetivos de sostenibilidad a largo plazo?\n",
      "Evaluando (advanced) pregunta: ¿Qué papel desempeñan los planes de transición en la mitigación de riesgos ESG?\n",
      "Evaluando (advanced) pregunta: ¿Cómo puede la integración de riesgos ESG mejorar la competitividad de una institución?\n",
      "Evaluando (advanced) pregunta: ¿Cuál es la fecha de aplicación de las directrices para instituciones grandes y para SNCIs?\n",
      "Evaluando (advanced) pregunta: ¿De qué forma se aborda el principio de proporcionalidad en la gestión de riesgos ESG según estas directrices?\n",
      "Evaluando (advanced) pregunta: ¿Qué cambios legislativos han impulsado la emisión de estas directrices ESG?\n",
      "Evaluando (advanced) pregunta: ¿Cómo se integra el análisis de riesgos ESG en la evaluación de riesgos operacionales y reputacionales?\n",
      "Evaluando (advanced) pregunta: ¿Qué papel juegan las directrices ESG en la estrategia de transición de las instituciones financieras?\n",
      "Evaluando (advanced) pregunta: ¿Cómo se vinculan estas directrices ESG con los objetivos de la European Green Deal y la legislación sobre sostenibilidad?\n",
      "Evaluando (advanced) pregunta: ¿Qué requisitos específicos se establecen para la gestión de riesgos ambientales frente a riesgos sociales y de gobernanza?\n",
      "Evaluando (advanced) pregunta: ¿Cómo se debe estructurar un plan de transición según estas directrices ESG?\n",
      "Evaluando (advanced) pregunta: ¿Qué papel tiene la resiliencia a largo plazo (mínimo 10 años) en el enfoque de estas directrices ESG?\n",
      "Evaluando (advanced) pregunta: ¿Qué consideraciones se deben tener en cuenta para el uso de proxies y estimaciones en la medición de riesgos ESG?\n",
      "Evaluando (advanced) pregunta: ¿Cómo contribuyen estas directrices a la convergencia de prácticas en el ámbito de ESG a nivel europeo?\n",
      "Evaluando (advanced) pregunta: ¿Qué diferencias existen en la aplicación de estas directrices entre instituciones grandes y SNCIs?\n",
      "Evaluando (advanced) pregunta: ¿Qué medidas de reporte y comunicación se exigen para el cumplimiento de las directrices ESG?\n",
      "Evaluando (advanced) pregunta: ¿De qué forma se reflejan los resultados de la evaluación de materialidad ESG en el ICAAP de la institución?\n",
      "Evaluando (advanced) pregunta: ¿Qué interrelación existe entre los riesgos ESG y los riesgos tradicionales según estas directrices?\n",
      "Evaluando (advanced) pregunta: ¿Cómo se evalúa el impacto de la degradación de la biodiversidad en el análisis de riesgos ESG?\n",
      "Evaluando (advanced) pregunta: ¿Qué metodologías se recomiendan para cuantificar los riesgos físicos relacionados con eventos climáticos extremos?\n",
      "Evaluando (advanced) pregunta: ¿De qué manera se aborda la incertidumbre en las proyecciones de escenarios a largo plazo en el análisis ESG?\n",
      "Evaluando (advanced) pregunta: ¿Qué criterios deben utilizarse para validar la calidad de los datos externos en el análisis ESG?\n",
      "Evaluando (advanced) pregunta: ¿Cuál es el rol de la supervisión prudencial en la aplicación de estas directrices ESG?\n"
     ]
    }
   ],
   "source": [
    "# Evaluar ambos conjuntos de preguntas usando advanced RAG con rerank\n",
    "non_expert_results_advanced = advanced_evaluate_qa_pairs(non_expert_qa, generation_model=\"Claude_3.5_Sonnet\", rerank_model=\"Rerank_1.0\")\n",
    "expert_results_advanced = advanced_evaluate_qa_pairs(expert_qa, generation_model=\"Claude_3.5_Sonnet\", rerank_model=\"Rerank_1.0\")\n"
   ],
   "metadata": {
    "collapsed": false,
    "ExecuteTime": {
     "end_time": "2025-03-20T11:58:52.910730600Z",
     "start_time": "2025-03-20T11:50:23.874716Z"
    }
   },
   "execution_count": 14
  },
  {
   "cell_type": "code",
   "outputs": [],
   "source": [
    "\n",
    "# Save the advanced RAG results to separate JSON files\n",
    "with open(\"non_expert_results_advanced.json\", \"w\", encoding=\"utf-8\") as f:\n",
    "    json.dump(non_expert_results_advanced, f, ensure_ascii=False, indent=4)\n",
    "\n",
    "with open(\"expert_results_advanced.json\", \"w\", encoding=\"utf-8\") as f:\n",
    "    json.dump(expert_results_advanced, f, ensure_ascii=False, indent=4)"
   ],
   "metadata": {
    "collapsed": false,
    "ExecuteTime": {
     "end_time": "2025-03-20T11:58:52.922358Z",
     "start_time": "2025-03-20T11:58:52.912914Z"
    }
   },
   "execution_count": 15
  }
 ],
 "metadata": {
  "kernelspec": {
   "display_name": "Python 3",
   "language": "python",
   "name": "python3"
  },
  "language_info": {
   "codemirror_mode": {
    "name": "ipython",
    "version": 3
   },
   "file_extension": ".py",
   "mimetype": "text/x-python",
   "name": "python",
   "nbconvert_exporter": "python",
   "pygments_lexer": "ipython3",
   "version": "3.11.9"
  }
 },
 "nbformat": 4,
 "nbformat_minor": 2
}
