{
 "cells": [
  {
   "cell_type": "markdown",
   "metadata": {
    "collapsed": false,
    "jupyter": {
     "outputs_hidden": false
    }
   },
   "source": [
    "# Imports"
   ]
  },
  {
   "cell_type": "code",
   "execution_count": 1,
   "metadata": {
    "ExecuteTime": {
     "end_time": "2025-05-28T19:37:47.369742400Z",
     "start_time": "2025-05-28T19:37:37.529662700Z"
    }
   },
   "outputs": [
    {
     "name": "stdout",
     "output_type": "stream",
     "text": [
      "WARNING:tensorflow:From C:\\Users\\Alonso\\Desktop\\Clase\\Master\\UPM\\TFM\\Trabajo\\venv\\Lib\\site-packages\\tf_keras\\src\\losses.py:2976: The name tf.losses.sparse_softmax_cross_entropy is deprecated. Please use tf.compat.v1.losses.sparse_softmax_cross_entropy instead.\n"
     ]
    }
   ],
   "source": [
    "import os\n",
    "import json\n",
    "import PyPDF2\n",
    "import boto3\n",
    "import nltk\n",
    "import jiwer\n",
    "from nltk.translate.bleu_score import sentence_bleu, SmoothingFunction\n",
    "from rouge import Rouge\n",
    "from tensorflow import keras\n",
    "from qdrant_client import QdrantClient\n",
    "from qdrant_client.http.models import PointStruct, VectorParams\n",
    "from sentence_transformers import SentenceTransformer\n"
   ]
  },
  {
   "cell_type": "markdown",
   "metadata": {
    "collapsed": false,
    "jupyter": {
     "outputs_hidden": false
    }
   },
   "source": [
    "# Embeddings Qdrant"
   ]
  },
  {
   "cell_type": "code",
   "execution_count": 2,
   "metadata": {
    "ExecuteTime": {
     "end_time": "2025-05-28T19:37:49.951736600Z",
     "start_time": "2025-05-28T19:37:47.369742400Z"
    }
   },
   "outputs": [],
   "source": [
    "# %% [markdown]\n",
    "# ## Paso 2: Configuración de Qdrant, Amazon Bedrock y variable de modelos\n",
    "# Ajusta el host/puerto de Qdrant y el ID del modelo de Amazon Bedrock según tu configuración.\n",
    "\n",
    "# Inicializamos el cliente de Qdrant\n",
    "qdrant = QdrantClient(host=\"localhost\", port=6333)  # Cambia estos parámetros según tu entorno\n",
    "collection_name = \"documentos\"\n",
    "\n",
    "# Variable de modelos (ejemplo); se debe configurar con el id del modelo en Amazon Bedrock\n",
    "modelos = {\n",
    "    \"Titan Embeddings G1 - Text\" : \"amazon.titan-embed-text-v1\",\n",
    "    \"Titan Text G1 - Lite\": \"amazon.titan-text-lite-v1\",\n",
    "    \"Titan Text G1 - Express\": \"amazon.titan-text-express-v1\",\n",
    "    \"\": \"\",\n",
    "    \"Rerank_1.0\": \"amazon.rerank-v1:0\",\n",
    "    \"Claude_3.5_Sonnet\" : \"anthropic.claude-3-5-sonnet-20240620-v1:0\",\n",
    "    \"Claude_3_Sonnet\": \"anthropic.claude-3-sonnet-20240229-v1:0\",\n",
    "    \"Claude_3_Haiku\" : \"anthropic.claude-3-5-haiku-20241022-v1:0\",\n",
    "    \"Claude_2.1\" : \"anthropic.claude-v2:1\",\n",
    "    \"Claude_Instant\" : \"anthropic.claude-instant-v1\",\n",
    "    \"Claude\": \"anthropic.claude-v2:0\"\n",
    "}\n",
    "\n",
    "# Inicializamos el cliente de Amazon Bedrock\n",
    "bedrock = boto3.client('bedrock-runtime')"
   ]
  },
  {
   "cell_type": "code",
   "execution_count": 3,
   "metadata": {
    "ExecuteTime": {
     "end_time": "2025-05-28T19:37:53.306869400Z",
     "start_time": "2025-05-28T19:37:49.957341600Z"
    }
   },
   "outputs": [
    {
     "name": "stdout",
     "output_type": "stream",
     "text": [
      "Leyendo el PDF...\n",
      "PDF leído correctamente.\n"
     ]
    }
   ],
   "source": [
    "# %% [markdown]\n",
    "# ## Paso 3: Función para leer el PDF y extraer el texto\n",
    "\n",
    "def read_pdf(file_path):\n",
    "    \"\"\"Lee un PDF y extrae todo su texto.\"\"\"\n",
    "    text = \"\"\n",
    "    with open(file_path, 'rb') as pdf_file:\n",
    "        pdf_reader = PyPDF2.PdfReader(pdf_file)\n",
    "        for page in pdf_reader.pages:\n",
    "            page_text = page.extract_text()\n",
    "            if page_text:\n",
    "                text += page_text + \"\\n\"\n",
    "    return text\n",
    "\n",
    "# Ruta al documento\n",
    "pdf_path = \"documento.pdf\"\n",
    "print(\"Leyendo el PDF...\")\n",
    "document_text = read_pdf(pdf_path)\n",
    "print(\"PDF leído correctamente.\")"
   ]
  },
  {
   "cell_type": "code",
   "execution_count": 4,
   "metadata": {
    "ExecuteTime": {
     "end_time": "2025-05-28T19:37:53.311275700Z",
     "start_time": "2025-05-28T19:37:53.305855100Z"
    }
   },
   "outputs": [
    {
     "name": "stdout",
     "output_type": "stream",
     "text": [
      "Dividiendo el documento en chunks...\n",
      "Total de chunks generados: 478\n"
     ]
    }
   ],
   "source": [
    "# %% [markdown]\n",
    "# ## Paso 4: Función para dividir el texto en chunks\n",
    "# Se define un tamaño de chunk y un solapamiento para conservar contexto entre ellos.\n",
    "\n",
    "def chunk_text(text, chunk_size=1000, overlap=100):\n",
    "    \"\"\"\n",
    "    Divide el texto en chunks de `chunk_size` caracteres con un solapamiento de `overlap` caracteres.\n",
    "    \"\"\"\n",
    "    chunks = []\n",
    "    start = 0\n",
    "    while start < len(text):\n",
    "        end = start + chunk_size\n",
    "        chunk = text[start:end]\n",
    "        chunks.append(chunk)\n",
    "        start += (chunk_size - overlap)\n",
    "    return chunks\n",
    "\n",
    "print(\"Dividiendo el documento en chunks...\")\n",
    "chunks = chunk_text(document_text, chunk_size=1000, overlap=100)\n",
    "print(f\"Total de chunks generados: {len(chunks)}\")"
   ]
  },
  {
   "cell_type": "code",
   "execution_count": 5,
   "metadata": {
    "ExecuteTime": {
     "end_time": "2025-05-28T19:38:07.258308100Z",
     "start_time": "2025-05-28T19:37:53.312311300Z"
    }
   },
   "outputs": [
    {
     "name": "stdout",
     "output_type": "stream",
     "text": [
      "Computando embeddings de los chunks...\n"
     ]
    },
    {
     "data": {
      "application/vnd.jupyter.widget-view+json": {
       "model_id": "7da2a9b7148b463cb44941b716765c1b",
       "version_major": 2,
       "version_minor": 0
      },
      "text/plain": [
       "Batches:   0%|          | 0/15 [00:00<?, ?it/s]"
      ]
     },
     "metadata": {},
     "output_type": "display_data"
    },
    {
     "name": "stdout",
     "output_type": "stream",
     "text": [
      "Subiendo los embeddings a Qdrant...\n",
      "Embeddings subidos correctamente.\n"
     ]
    }
   ],
   "source": [
    "# %% [markdown]\n",
    "# ## Paso 5: Calcular embeddings y subir a Qdrant\n",
    "# Se usa un modelo de SentenceTransformer para obtener los embeddings de cada chunk.\n",
    "# Si la colección en Qdrant no existe, se crea con la dimensión correcta.\n",
    "\n",
    "# Inicializamos el modelo de embeddings\n",
    "embedder = SentenceTransformer('all-MiniLM-L6-v2')\n",
    "\n",
    "# Obtenemos la dimensión del embedding\n",
    "dimension = embedder.get_sentence_embedding_dimension()\n",
    "\n",
    "# Creamos la colección en Qdrant si no existe\n",
    "collections = qdrant.get_collections().collections\n",
    "if not any(col.name == collection_name for col in collections):\n",
    "    print(\"Creando colección en Qdrant...\")\n",
    "    qdrant.create_collection(\n",
    "         collection_name=collection_name,\n",
    "         vectors_config=VectorParams(size=dimension, distance=\"Cosine\")\n",
    "    )\n",
    "    print(\"Colección creada.\")\n",
    "\n",
    "print(\"Computando embeddings de los chunks...\")\n",
    "embeddings = embedder.encode(chunks, show_progress_bar=True)\n",
    "\n",
    "# Preparamos los puntos (cada punto asocia un chunk y su embedding)\n",
    "points = []\n",
    "for i, (chunk, vector) in enumerate(zip(chunks, embeddings)):\n",
    "    points.append(PointStruct(\n",
    "         id=i,\n",
    "         vector=vector.tolist(),\n",
    "         payload={\"text\": chunk}\n",
    "    ))\n",
    "\n",
    "print(\"Subiendo los embeddings a Qdrant...\")\n",
    "qdrant.upsert(collection_name=collection_name, points=points)\n",
    "print(\"Embeddings subidos correctamente.\")"
   ]
  },
  {
   "cell_type": "code",
   "execution_count": 6,
   "metadata": {
    "ExecuteTime": {
     "end_time": "2025-05-28T19:38:07.260315200Z",
     "start_time": "2025-05-28T19:38:07.259312800Z"
    }
   },
   "outputs": [],
   "source": [
    "# %% [markdown]\n",
    "# ## Paso 6: Función para recuperar chunks relevantes desde Qdrant\n",
    "# Dada una query, se calcula su embedding y se buscan los chunks más similares.\n",
    "\n",
    "def get_relevant_chunks(query, top_k=5):\n",
    "    \"\"\"\n",
    "    Dada una query, recupera los `top_k` chunks más relevantes desde Qdrant.\n",
    "    \"\"\"\n",
    "    query_embedding = embedder.encode(query)\n",
    "    search_result = qdrant.search(\n",
    "         collection_name=collection_name,\n",
    "         query_vector=query_embedding.tolist(),\n",
    "         limit=top_k\n",
    "    )\n",
    "    # Extraemos el texto de cada chunk recuperado\n",
    "    contexts = [res.payload.get(\"text\", \"\") for res in search_result]\n",
    "    return contexts"
   ]
  },
  {
   "cell_type": "markdown",
   "metadata": {
    "collapsed": false,
    "jupyter": {
     "outputs_hidden": false
    }
   },
   "source": [
    "# RAG básico"
   ]
  },
  {
   "cell_type": "code",
   "execution_count": 7,
   "metadata": {
    "ExecuteTime": {
     "end_time": "2025-05-28T19:38:07.266351900Z",
     "start_time": "2025-05-28T19:38:07.261817900Z"
    }
   },
   "outputs": [],
   "source": [
    "def ask_question(query, modelo, top_k=5):\n",
    "    # Recupera los chunks relevantes y construye el contexto\n",
    "    contexts = get_relevant_chunks(query, top_k=top_k)\n",
    "    context_text = \"\\n\".join(contexts)\n",
    "    \n",
    "    # Define el mensaje de sistema que contiene instrucciones y el contexto.\n",
    "    # En este ejemplo se indica que se debe responder en pocas palabras.\n",
    "    system_message = f\"Answer the question based on the following context shortly:\\n{context_text}\"\n",
    "    \n",
    "    # Define el mensaje del usuario con la consulta.\n",
    "    messages = [{\"role\": \"user\", \"content\": query}]\n",
    "    \n",
    "    # Construye el payload utilizando la estructura que funcionó en tu prueba.\n",
    "    payload = {\n",
    "        \"anthropic_version\": \"bedrock-2023-05-31\",  \n",
    "        \"system\": system_message,\n",
    "        \"messages\": messages,\n",
    "        \"max_tokens\": 100,\n",
    "        \"temperature\": 0.8,\n",
    "        \"top_p\": 0.8,\n",
    "    }\n",
    "    \n",
    "    # Convierte el payload a JSON\n",
    "    payload_json = json.dumps(payload)\n",
    "    \n",
    "    # Selecciona el id del modelo a partir del diccionario 'modelos'\n",
    "    model_id = modelos.get(modelo)\n",
    "    \n",
    "    # Invoca el modelo en Amazon Bedrock\n",
    "    response = bedrock.invoke_model(\n",
    "         modelId=model_id,\n",
    "         contentType=\"application/json\",\n",
    "         body=payload_json\n",
    "    )\n",
    "    \n",
    "    # Procesa la respuesta (para modelos Anthropic la respuesta suele estar en la clave \"content\")\n",
    "    response_body = json.loads(response[\"body\"].read().decode(\"utf-8\"))\n",
    "    return response_body.get(\"content\", response_body)\n"
   ]
  },
  {
   "cell_type": "code",
   "execution_count": 8,
   "metadata": {
    "ExecuteTime": {
     "end_time": "2025-05-28T19:38:07.269945800Z",
     "start_time": "2025-05-28T19:38:07.267350300Z"
    }
   },
   "outputs": [],
   "source": [
    "def extract_answer_text(generated_answer):\n",
    "    \"\"\"\n",
    "    Given the generated answer, which may be a list of dicts or a string,\n",
    "    extract and return the plain text.\n",
    "    \"\"\"\n",
    "    if isinstance(generated_answer, list) and len(generated_answer) > 0:\n",
    "        # Assume the answer is in the first element under the \"text\" key\n",
    "        return generated_answer[0].get(\"text\", \"\").strip()\n",
    "    elif isinstance(generated_answer, str):\n",
    "        return generated_answer.strip()\n",
    "    else:\n",
    "        return str(generated_answer).strip()\n",
    "\n",
    "# Modified evaluation function to include the expected answer (for later comparison)\n",
    "def evaluate_qa_pairs(qa_pairs, model_name=\"Claude_3.5_Sonnet\"):\n",
    "    results = []\n",
    "    for qa in qa_pairs:\n",
    "        question = qa[\"Q\"]\n",
    "        expected_answer = qa[\"A\"]\n",
    "        print(f\"Evaluando pregunta: {question}\")\n",
    "        \n",
    "        # Get the generated answer from RAG\n",
    "        generated_answer = ask_question(question, model_name)\n",
    "        answer_text = extract_answer_text(generated_answer)\n",
    "        \n",
    "        result = {\n",
    "            \"question\": question,\n",
    "            \"expected_answer\": expected_answer,\n",
    "            \"generated_answer\": answer_text\n",
    "        }\n",
    "        results.append(result)\n",
    "    return results"
   ]
  },
  {
   "cell_type": "code",
   "execution_count": 9,
   "metadata": {
    "ExecuteTime": {
     "end_time": "2025-05-28T19:38:07.273914Z",
     "start_time": "2025-05-28T19:38:07.269945800Z"
    },
    "collapsed": false,
    "jupyter": {
     "outputs_hidden": false
    }
   },
   "outputs": [],
   "source": [
    "with open(\"Expert-questions.json\", \"r\", encoding=\"utf-8\") as f:\n",
    "    expert_qa = json.load(f)\n",
    "\n",
    "with open(\"Not-expert-questions.json\", \"r\", encoding=\"utf-8\") as f:\n",
    "    non_expert_qa = json.load(f)"
   ]
  },
  {
   "cell_type": "code",
   "execution_count": 10,
   "metadata": {
    "ExecuteTime": {
     "end_time": "2025-05-28T19:45:13.055994Z",
     "start_time": "2025-05-28T19:38:07.274661200Z"
    }
   },
   "outputs": [
    {
     "name": "stdout",
     "output_type": "stream",
     "text": [
      "Evaluando pregunta: What are ESG risks?\n"
     ]
    },
    {
     "name": "stderr",
     "output_type": "stream",
     "text": [
      "C:\\Users\\Alonso\\AppData\\Local\\Temp\\ipykernel_4784\\1406710426.py:10: DeprecationWarning: `search` method is deprecated and will be removed in the future. Use `query_points` instead.\n",
      "  search_result = qdrant.search(\n"
     ]
    },
    {
     "name": "stdout",
     "output_type": "stream",
     "text": [
      "Evaluando pregunta: What is the main objective of these ESG guidelines?\n",
      "Evaluando pregunta: Why is it important for institutions to manage ESG risks?\n",
      "Evaluando pregunta: What is meant by environmental risk in this context?\n",
      "Evaluando pregunta: What does 'transition risk' mean?\n",
      "Evaluando pregunta: What are physical risks in the ESG domain?\n",
      "Evaluando pregunta: What role does the EBA play in ESG risk management?\n",
      "Evaluando pregunta: How should institutions integrate ESG risks into their management?\n",
      "Evaluando pregunta: What is a materiality assessment in ESG risks?\n",
      "Evaluando pregunta: What must an ESG transition plan include?\n",
      "Evaluando pregunta: What time horizon is considered for ESG risks?\n",
      "Evaluando pregunta: What tools can be used to measure ESG risks?\n",
      "Evaluando pregunta: What is scenario analysis in this context?\n",
      "Evaluando pregunta: How do ESG risks relate to sustainability?\n",
      "Evaluando pregunta: What impact can ESG risks have on an institution’s solvency?\n",
      "Evaluando pregunta: How is information about ESG risks communicated?\n",
      "Evaluando pregunta: How important is governance in ESG risk management?\n",
      "Evaluando pregunta: What are the main challenges in measuring ESG risks?\n",
      "Evaluando pregunta: What is reputational risk in relation to ESG?\n",
      "Evaluando pregunta: Why is data integration fundamental in ESG risk assessment?\n",
      "Evaluando pregunta: What does it mean to assess ESG risks over short, medium, and long terms?\n",
      "Evaluando pregunta: Why must materiality assessments of ESG risks be updated periodically?\n",
      "Evaluando pregunta: How does scenario analysis aid decision-making in ESG risks?\n",
      "Evaluando pregunta: How can ESG risks influence an institution’s reputation?\n",
      "Evaluando pregunta: What is 'social risk' in the ESG context?\n",
      "Evaluando pregunta: How do ESG guidelines help improve risk management in financial institutions?\n",
      "Evaluando pregunta: What is a KRI and why is it important in monitoring ESG risks?\n",
      "Evaluando pregunta: How do ESG risks relate to corporate sustainability?\n",
      "Evaluando pregunta: What does it mean that ESG risks can affect traditional risks like credit or market risks?\n",
      "Evaluando pregunta: Why is it important for institutions to collect specific data on their ESG exposures?\n",
      "Evaluando pregunta: What role does third-party sustainability data play in ESG risk assessment?\n",
      "Evaluando pregunta: How does a transition plan relate to ESG risk management?\n",
      "Evaluando pregunta: What does it mean that the guidelines consider a 10-year horizon for risk assessment?\n",
      "Evaluando pregunta: How can climate change affect a financial institution’s operations?\n",
      "Evaluando pregunta: Why is it necessary to integrate both quantitative and qualitative data in ESG risk assessment?\n",
      "Evaluando pregunta: What does 'materiality' imply in ESG risk management?\n",
      "Evaluando pregunta: What benefits does periodic updating of an ESG assessment bring to an institution?\n",
      "Evaluando pregunta: How do public policies influence ESG risk management?\n",
      "Evaluando pregunta: What role does technology play in collecting and analyzing data for ESG risks?\n",
      "Evaluando pregunta: How can clients and stakeholders influence an institution’s ESG risk management?\n",
      "Evaluando pregunta: What are the main methodological components for identifying and measuring ESG risks?\n",
      "Evaluando pregunta: How should materiality assessment be carried out in the ESG context?\n",
      "Evaluando pregunta: What criteria are used to determine the materiality of an ESG risk?\n",
      "Evaluando pregunta: How are ESG risks integrated into ICAAP and ILAAP processes?\n",
      "Evaluando pregunta: What role do scenario analyses play in ESG risk management?\n",
      "Evaluando pregunta: What challenges exist in the availability and quality of data for evaluating ESG risks?\n",
      "Evaluando pregunta: What implications does integrating ESG risks have on an institution’s risk appetite?\n",
      "Evaluando pregunta: How are portfolio alignment methodologies applied in ESG analysis?\n",
      "Evaluando pregunta: How important are vulnerability assessments to physical risks?\n",
      "Evaluando pregunta: How are transition risks incorporated into credit scoring models?\n",
      "Evaluando pregunta: What mitigation measures are recommended for managing ESG risks in credit portfolios?\n",
      "Evaluando pregunta: How should methodologies and assumptions be documented in ESG assessment?\n",
      "Evaluando pregunta: What role do KRIs play in monitoring ESG risks?\n",
      "Evaluando pregunta: How should ESG risks be integrated into internal governance structures?\n",
      "Evaluando pregunta: What role do external and third-party data play in ESG risk assessment?\n",
      "Evaluando pregunta: How is the inherent uncertainty in measuring ESG risks addressed?\n",
      "Evaluando pregunta: What regulatory implications do these ESG guidelines have for financial institutions?\n",
      "Evaluando pregunta: How does ESG analysis relate to long-term sustainability objectives?\n",
      "Evaluando pregunta: What role do transition plans play in ESG risk mitigation?\n",
      "Evaluando pregunta: How can integrating ESG risks improve an institution’s competitiveness?\n",
      "Evaluando pregunta: What is the application date of the guidelines for large institutions and for SNCIs?\n",
      "Evaluando pregunta: How is the principle of proportionality addressed in ESG risk management according to these guidelines?\n",
      "Evaluando pregunta: What legislative changes prompted the issuance of these ESG guidelines?\n",
      "Evaluando pregunta: How is ESG risk analysis integrated into operational and reputational risk assessment?\n",
      "Evaluando pregunta: What role do ESG guidelines play in financial institutions’ transition strategies?\n",
      "Evaluando pregunta: How are these ESG guidelines linked to the European Green Deal and sustainability legislation?\n",
      "Evaluando pregunta: What specific requirements are set for managing environmental risks versus social and governance risks?\n",
      "Evaluando pregunta: How should a transition plan be structured according to these ESG guidelines?\n",
      "Evaluando pregunta: What role does long-term resilience (at least 10 years) play in the ESG guidelines’ approach?\n",
      "Evaluando pregunta: What considerations should be taken into account when using proxies and estimates in ESG risk measurement?\n",
      "Evaluando pregunta: How do these guidelines contribute to the convergence of ESG practices across Europe?\n",
      "Evaluando pregunta: What differences exist in applying these guidelines between large institutions and SNCIs?\n",
      "Evaluando pregunta: What reporting and communication measures are required for ESG guideline compliance?\n",
      "Evaluando pregunta: How are the results of ESG materiality assessment reflected in an institution’s ICAAP?\n",
      "Evaluando pregunta: What interrelation exists between ESG risks and traditional risks according to these guidelines?\n",
      "Evaluando pregunta: How is the impact of biodiversity degradation evaluated in ESG risk analysis?\n",
      "Evaluando pregunta: What methodologies are recommended to quantify physical risks from extreme climate events?\n",
      "Evaluando pregunta: How is uncertainty in long-term scenario projections addressed in ESG analysis?\n",
      "Evaluando pregunta: What criteria should be used to validate the quality of external data in ESG analysis?\n",
      "Evaluando pregunta: What is the role of prudential supervision in applying these ESG guidelines?\n"
     ]
    }
   ],
   "source": [
    "\n",
    "\n",
    "# Evaluar ambos conjuntos de preguntas\n",
    "non_expert_results = evaluate_qa_pairs(non_expert_qa, model_name=\"Claude_3.5_Sonnet\")\n",
    "expert_results = evaluate_qa_pairs(expert_qa, model_name=\"Claude_3.5_Sonnet\")"
   ]
  },
  {
   "cell_type": "code",
   "execution_count": 11,
   "metadata": {
    "ExecuteTime": {
     "end_time": "2025-05-28T19:45:13.060135700Z",
     "start_time": "2025-05-28T19:45:13.056993600Z"
    }
   },
   "outputs": [],
   "source": [
    "# Imprimir las respuestas obtenidas\n",
    "# print(\"\\nResultados para preguntas no expertas:\")\n",
    "# for res in non_expert_results:\n",
    "#     print(f\"Pregunta: {res['question']}\\nRespuesta: {res['answer']}\\n\")\n",
    "# \n",
    "# print(\"\\nResultados para preguntas expertas:\")\n",
    "# for res in expert_results:\n",
    "#     print(f\"Pregunta: {res['question']}\\nRespuesta: {res['answer']}\\n\")"
   ]
  },
  {
   "cell_type": "markdown",
   "metadata": {
    "collapsed": false,
    "jupyter": {
     "outputs_hidden": false
    }
   },
   "source": [
    "# RAG avanzado (con rerank)"
   ]
  },
  {
   "cell_type": "code",
   "execution_count": 13,
   "metadata": {
    "ExecuteTime": {
     "end_time": "2025-05-28T19:45:13.076104200Z",
     "start_time": "2025-05-28T19:45:13.067844800Z"
    },
    "collapsed": false,
    "jupyter": {
     "outputs_hidden": false
    }
   },
   "outputs": [],
   "source": [
    "def get_rerank_score(query, chunk, rerank_model):\n",
    "    \"\"\"\n",
    "    Uses the rerank model to obtain a relevance score for a given chunk and query.\n",
    "    The model is expected to return a numeric score between 0 and 1.\n",
    "    \"\"\"\n",
    "    payload = {\n",
    "        \"query\": query,\n",
    "        \"documents\": [chunk]\n",
    "    }\n",
    "    payload_json = json.dumps(payload)\n",
    "    model_id = modelos.get(rerank_model)\n",
    "    \n",
    "    response = bedrock.invoke_model(\n",
    "         modelId=model_id,\n",
    "         contentType=\"application/json\",\n",
    "         body=payload_json\n",
    "    )\n",
    "    response_body = json.loads(response[\"body\"].read().decode(\"utf-8\"))\n",
    "    # Adjust the key \"output\" if necessary – here we assume it's a string number.\n",
    "    try:\n",
    "        score = float(response_body.get(\"output\", 0))\n",
    "    except Exception:\n",
    "        score = 0.0  # Default score if conversion fails\n",
    "    return score\n",
    "\n",
    "\n",
    "def advanced_ask_question(query, generation_model, rerank_model, retrieval_top_k=10, rerank_top_k=5):\n",
    "    \"\"\"\n",
    "    Advanced RAG: retrieves candidate chunks, reranks them using the rerank model,\n",
    "    builds the context with the top-scoring chunks, and then generates a response.\n",
    "    \"\"\"\n",
    "    # Retrieve a larger set of candidate chunks for reranking\n",
    "    candidate_chunks = get_relevant_chunks(query, top_k=retrieval_top_k)\n",
    "    \n",
    "    # Rerank candidate chunks\n",
    "    scored_chunks = []\n",
    "    for chunk in candidate_chunks:\n",
    "        score = get_rerank_score(query, chunk, rerank_model)\n",
    "        scored_chunks.append((chunk, score))\n",
    "    \n",
    "    # Sort chunks by score in descending order\n",
    "    scored_chunks.sort(key=lambda x: x[1], reverse=True)\n",
    "    \n",
    "    # Select the top-ranked chunks\n",
    "    top_chunks = [chunk for chunk, score in scored_chunks[:rerank_top_k]]\n",
    "    context_text = \"\\n\".join(top_chunks)\n",
    "    \n",
    "    system_message = f\"Answer the question based on the following context shortly, in at most 5 words:\\n{context_text}\"\n",
    "    \n",
    "    # Define el mensaje del usuario con la consulta.\n",
    "    messages = [{\"role\": \"user\", \"content\": query}]\n",
    "    \n",
    "    # Build payload for the generation model using the updated keys\n",
    "    payload = {\n",
    "        \"anthropic_version\": \"bedrock-2023-05-31\",  \n",
    "        \"system\": system_message,\n",
    "        \"messages\": messages,\n",
    "        \"max_tokens\": 100,\n",
    "        \"temperature\": 0.8,\n",
    "        \"top_p\": 0.8,\n",
    "    }\n",
    "    \n",
    "    payload_json = json.dumps(payload)\n",
    "    model_id = modelos.get(generation_model)\n",
    "    \n",
    "    response = bedrock.invoke_model(\n",
    "         modelId=model_id,\n",
    "         contentType=\"application/json\",\n",
    "         body=payload_json\n",
    "    )\n",
    "    \n",
    "    response_body = json.loads(response[\"body\"].read().decode(\"utf-8\"))\n",
    "    return response_body.get(\"output\", response_body)\n",
    "\n",
    "def extract_answer_text_advanced(generated_answer):\n",
    "    \"\"\"\n",
    "    Given the generated answer, which may be a list of dicts or a string,\n",
    "    extract and return the plain text.\n",
    "    \"\"\"\n",
    "    \n",
    "    print(generated_answer)\n",
    "    ans = json.loads(generated_answer)\n",
    "    \n",
    "    if isinstance(ans, list) and len(generated_answer) > 0:\n",
    "        # Assume the answer is in the first element under the \"text\" key\n",
    "        return generated_answer[\"content\"][0].strip()\n",
    "    elif isinstance(generated_answer, str):\n",
    "        return generated_answer.strip()\n",
    "    else:\n",
    "        return str(generated_answer).strip()\n",
    "\n",
    "def advanced_evaluate_qa_pairs(qa_pairs, generation_model=\"Claude_3.5_Sonnet\", rerank_model=\"Rerank_1.0\"):\n",
    "    results = []\n",
    "    for qa in qa_pairs:\n",
    "        question = qa[\"Q\"]\n",
    "        expected_answer = qa[\"A\"]\n",
    "        print(f\"Evaluando (advanced) pregunta: {question}\")\n",
    "        \n",
    "        # Obtener la respuesta generada usando advanced RAG con rerank\n",
    "        generated_answer = advanced_ask_question(question, generation_model, rerank_model)\n",
    "        answer_text = generated_answer[\"content\"][0][\"text\"]\n",
    "        \n",
    "        result = {\n",
    "            \"question\": question,\n",
    "            \"expected_answer\": expected_answer,\n",
    "            \"generated_answer\": answer_text\n",
    "        }\n",
    "        results.append(result)\n",
    "    return results\n",
    "\n"
   ]
  },
  {
   "cell_type": "code",
   "execution_count": 14,
   "metadata": {
    "ExecuteTime": {
     "end_time": "2025-05-28T19:53:11.922042100Z",
     "start_time": "2025-05-28T19:45:13.077106500Z"
    },
    "collapsed": false,
    "jupyter": {
     "outputs_hidden": false
    }
   },
   "outputs": [
    {
     "name": "stdout",
     "output_type": "stream",
     "text": [
      "Evaluando (advanced) pregunta: What are ESG risks?\n"
     ]
    },
    {
     "name": "stderr",
     "output_type": "stream",
     "text": [
      "C:\\Users\\Alonso\\AppData\\Local\\Temp\\ipykernel_4784\\1406710426.py:10: DeprecationWarning: `search` method is deprecated and will be removed in the future. Use `query_points` instead.\n",
      "  search_result = qdrant.search(\n"
     ]
    },
    {
     "name": "stdout",
     "output_type": "stream",
     "text": [
      "Evaluando (advanced) pregunta: What is the main objective of these ESG guidelines?\n",
      "Evaluando (advanced) pregunta: Why is it important for institutions to manage ESG risks?\n",
      "Evaluando (advanced) pregunta: What is meant by environmental risk in this context?\n",
      "Evaluando (advanced) pregunta: What does 'transition risk' mean?\n",
      "Evaluando (advanced) pregunta: What are physical risks in the ESG domain?\n",
      "Evaluando (advanced) pregunta: What role does the EBA play in ESG risk management?\n",
      "Evaluando (advanced) pregunta: How should institutions integrate ESG risks into their management?\n",
      "Evaluando (advanced) pregunta: What is a materiality assessment in ESG risks?\n",
      "Evaluando (advanced) pregunta: What must an ESG transition plan include?\n",
      "Evaluando (advanced) pregunta: What time horizon is considered for ESG risks?\n",
      "Evaluando (advanced) pregunta: What tools can be used to measure ESG risks?\n",
      "Evaluando (advanced) pregunta: What is scenario analysis in this context?\n",
      "Evaluando (advanced) pregunta: How do ESG risks relate to sustainability?\n",
      "Evaluando (advanced) pregunta: What impact can ESG risks have on an institution’s solvency?\n",
      "Evaluando (advanced) pregunta: How is information about ESG risks communicated?\n",
      "Evaluando (advanced) pregunta: How important is governance in ESG risk management?\n",
      "Evaluando (advanced) pregunta: What are the main challenges in measuring ESG risks?\n",
      "Evaluando (advanced) pregunta: What is reputational risk in relation to ESG?\n",
      "Evaluando (advanced) pregunta: Why is data integration fundamental in ESG risk assessment?\n",
      "Evaluando (advanced) pregunta: What does it mean to assess ESG risks over short, medium, and long terms?\n",
      "Evaluando (advanced) pregunta: Why must materiality assessments of ESG risks be updated periodically?\n",
      "Evaluando (advanced) pregunta: How does scenario analysis aid decision-making in ESG risks?\n",
      "Evaluando (advanced) pregunta: How can ESG risks influence an institution’s reputation?\n",
      "Evaluando (advanced) pregunta: What is 'social risk' in the ESG context?\n",
      "Evaluando (advanced) pregunta: How do ESG guidelines help improve risk management in financial institutions?\n",
      "Evaluando (advanced) pregunta: What is a KRI and why is it important in monitoring ESG risks?\n",
      "Evaluando (advanced) pregunta: How do ESG risks relate to corporate sustainability?\n",
      "Evaluando (advanced) pregunta: What does it mean that ESG risks can affect traditional risks like credit or market risks?\n",
      "Evaluando (advanced) pregunta: Why is it important for institutions to collect specific data on their ESG exposures?\n",
      "Evaluando (advanced) pregunta: What role does third-party sustainability data play in ESG risk assessment?\n",
      "Evaluando (advanced) pregunta: How does a transition plan relate to ESG risk management?\n",
      "Evaluando (advanced) pregunta: What does it mean that the guidelines consider a 10-year horizon for risk assessment?\n",
      "Evaluando (advanced) pregunta: How can climate change affect a financial institution’s operations?\n",
      "Evaluando (advanced) pregunta: Why is it necessary to integrate both quantitative and qualitative data in ESG risk assessment?\n",
      "Evaluando (advanced) pregunta: What does 'materiality' imply in ESG risk management?\n",
      "Evaluando (advanced) pregunta: What benefits does periodic updating of an ESG assessment bring to an institution?\n",
      "Evaluando (advanced) pregunta: How do public policies influence ESG risk management?\n",
      "Evaluando (advanced) pregunta: What role does technology play in collecting and analyzing data for ESG risks?\n",
      "Evaluando (advanced) pregunta: How can clients and stakeholders influence an institution’s ESG risk management?\n",
      "Evaluando (advanced) pregunta: What are the main methodological components for identifying and measuring ESG risks?\n",
      "Evaluando (advanced) pregunta: How should materiality assessment be carried out in the ESG context?\n",
      "Evaluando (advanced) pregunta: What criteria are used to determine the materiality of an ESG risk?\n",
      "Evaluando (advanced) pregunta: How are ESG risks integrated into ICAAP and ILAAP processes?\n",
      "Evaluando (advanced) pregunta: What role do scenario analyses play in ESG risk management?\n",
      "Evaluando (advanced) pregunta: What challenges exist in the availability and quality of data for evaluating ESG risks?\n",
      "Evaluando (advanced) pregunta: What implications does integrating ESG risks have on an institution’s risk appetite?\n",
      "Evaluando (advanced) pregunta: How are portfolio alignment methodologies applied in ESG analysis?\n",
      "Evaluando (advanced) pregunta: How important are vulnerability assessments to physical risks?\n",
      "Evaluando (advanced) pregunta: How are transition risks incorporated into credit scoring models?\n",
      "Evaluando (advanced) pregunta: What mitigation measures are recommended for managing ESG risks in credit portfolios?\n",
      "Evaluando (advanced) pregunta: How should methodologies and assumptions be documented in ESG assessment?\n",
      "Evaluando (advanced) pregunta: What role do KRIs play in monitoring ESG risks?\n",
      "Evaluando (advanced) pregunta: How should ESG risks be integrated into internal governance structures?\n",
      "Evaluando (advanced) pregunta: What role do external and third-party data play in ESG risk assessment?\n",
      "Evaluando (advanced) pregunta: How is the inherent uncertainty in measuring ESG risks addressed?\n",
      "Evaluando (advanced) pregunta: What regulatory implications do these ESG guidelines have for financial institutions?\n",
      "Evaluando (advanced) pregunta: How does ESG analysis relate to long-term sustainability objectives?\n",
      "Evaluando (advanced) pregunta: What role do transition plans play in ESG risk mitigation?\n",
      "Evaluando (advanced) pregunta: How can integrating ESG risks improve an institution’s competitiveness?\n",
      "Evaluando (advanced) pregunta: What is the application date of the guidelines for large institutions and for SNCIs?\n",
      "Evaluando (advanced) pregunta: How is the principle of proportionality addressed in ESG risk management according to these guidelines?\n",
      "Evaluando (advanced) pregunta: What legislative changes prompted the issuance of these ESG guidelines?\n",
      "Evaluando (advanced) pregunta: How is ESG risk analysis integrated into operational and reputational risk assessment?\n",
      "Evaluando (advanced) pregunta: What role do ESG guidelines play in financial institutions’ transition strategies?\n",
      "Evaluando (advanced) pregunta: How are these ESG guidelines linked to the European Green Deal and sustainability legislation?\n",
      "Evaluando (advanced) pregunta: What specific requirements are set for managing environmental risks versus social and governance risks?\n",
      "Evaluando (advanced) pregunta: How should a transition plan be structured according to these ESG guidelines?\n",
      "Evaluando (advanced) pregunta: What role does long-term resilience (at least 10 years) play in the ESG guidelines’ approach?\n",
      "Evaluando (advanced) pregunta: What considerations should be taken into account when using proxies and estimates in ESG risk measurement?\n",
      "Evaluando (advanced) pregunta: How do these guidelines contribute to the convergence of ESG practices across Europe?\n",
      "Evaluando (advanced) pregunta: What differences exist in applying these guidelines between large institutions and SNCIs?\n",
      "Evaluando (advanced) pregunta: What reporting and communication measures are required for ESG guideline compliance?\n",
      "Evaluando (advanced) pregunta: How are the results of ESG materiality assessment reflected in an institution’s ICAAP?\n",
      "Evaluando (advanced) pregunta: What interrelation exists between ESG risks and traditional risks according to these guidelines?\n",
      "Evaluando (advanced) pregunta: How is the impact of biodiversity degradation evaluated in ESG risk analysis?\n",
      "Evaluando (advanced) pregunta: What methodologies are recommended to quantify physical risks from extreme climate events?\n",
      "Evaluando (advanced) pregunta: How is uncertainty in long-term scenario projections addressed in ESG analysis?\n",
      "Evaluando (advanced) pregunta: What criteria should be used to validate the quality of external data in ESG analysis?\n",
      "Evaluando (advanced) pregunta: What is the role of prudential supervision in applying these ESG guidelines?\n"
     ]
    }
   ],
   "source": [
    "# Evaluar ambos conjuntos de preguntas usando advanced RAG con rerank\n",
    "non_expert_results_advanced = advanced_evaluate_qa_pairs(non_expert_qa, generation_model=\"Claude_3.5_Sonnet\", rerank_model=\"Rerank_1.0\")\n",
    "expert_results_advanced = advanced_evaluate_qa_pairs(expert_qa, generation_model=\"Claude_3.5_Sonnet\", rerank_model=\"Rerank_1.0\")\n"
   ]
  },
  {
   "cell_type": "code",
   "execution_count": 15,
   "metadata": {
    "ExecuteTime": {
     "end_time": "2025-05-28T19:53:11.933723300Z",
     "start_time": "2025-05-28T19:53:11.924033600Z"
    },
    "collapsed": false,
    "jupyter": {
     "outputs_hidden": false
    }
   },
   "outputs": [],
   "source": [
    "\n",
    "# Save the advanced RAG results to separate JSON files\n",
    "with open(\"nonExpert_answers_advanced.json\", \"w\", encoding=\"utf-8\") as f:\n",
    "    json.dump(non_expert_results_advanced, f, ensure_ascii=False, indent=4)\n",
    "\n",
    "with open(\"expert_answers_advanced.json\", \"w\", encoding=\"utf-8\") as f:\n",
    "    json.dump(expert_results_advanced, f, ensure_ascii=False, indent=4)"
   ]
  },
  {
   "cell_type": "code",
   "execution_count": 12,
   "metadata": {
    "ExecuteTime": {
     "end_time": "2025-05-28T19:45:13.066341800Z",
     "start_time": "2025-05-28T19:45:13.061135200Z"
    },
    "collapsed": false,
    "jupyter": {
     "outputs_hidden": false
    }
   },
   "outputs": [],
   "source": [
    "# Save the results to separate JSON files\n",
    "with open(\"non_expert_results_basic.json\", \"w\", encoding=\"utf-8\") as f:\n",
    "    json.dump(non_expert_results, f, ensure_ascii=False, indent=4)\n",
    "\n",
    "with open(\"expert_answers_basic.json\", \"w\", encoding=\"utf-8\") as f:\n",
    "    json.dump(expert_results, f, ensure_ascii=False, indent=4)"
   ]
  }
 ],
 "metadata": {
  "kernelspec": {
   "display_name": "Python 3 (ipykernel)",
   "language": "python",
   "name": "python3"
  },
  "language_info": {
   "codemirror_mode": {
    "name": "ipython",
    "version": 3
   },
   "file_extension": ".py",
   "mimetype": "text/x-python",
   "name": "python",
   "nbconvert_exporter": "python",
   "pygments_lexer": "ipython3",
   "version": "3.12.0"
  }
 },
 "nbformat": 4,
 "nbformat_minor": 4
}
