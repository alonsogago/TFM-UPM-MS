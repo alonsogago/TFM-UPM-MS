{
 "cells": [
  {
   "cell_type": "code",
   "execution_count": 9,
   "id": "initial_id",
   "metadata": {
    "collapsed": true,
    "ExecuteTime": {
     "end_time": "2025-02-27T09:23:07.270460700Z",
     "start_time": "2025-02-27T09:23:07.259854800Z"
    }
   },
   "outputs": [],
   "source": [
    "import json\n",
    "import jiwer\n",
    "from nltk.translate.bleu_score import sentence_bleu, SmoothingFunction\n",
    "from rouge import Rouge"
   ]
  },
  {
   "cell_type": "code",
   "outputs": [],
   "source": [
    "# Función auxiliar para asegurarse de que siempre se obtiene una lista de tokens\n",
    "def safe_split(x):\n",
    "    if isinstance(x, str):\n",
    "        tokens = x.split()\n",
    "        return tokens if tokens else [\"<EMPTY>\"]\n",
    "    return x\n",
    "\n",
    "# Función para calcular el Token Error Rate (Word Error Rate)\n",
    "def compute_token_error_rate(reference, hypothesis):\n",
    "    # Componer la transformación para normalizar ambos textos\n",
    "    transformation = jiwer.Compose([\n",
    "        jiwer.ExpandCommonEnglishContractions(),\n",
    "        jiwer.RemoveEmptyStrings(),\n",
    "        jiwer.ToLowerCase(),\n",
    "        jiwer.RemoveMultipleSpaces(),\n",
    "        jiwer.Strip(),\n",
    "        jiwer.RemovePunctuation(),\n",
    "        jiwer.ReduceToListOfListOfWords()\n",
    "    ])\n",
    "    # Calcula el Word Error Rate\n",
    "    error_rate = jiwer.wer(\n",
    "        reference, \n",
    "        hypothesis, \n",
    "        truth_transform=transformation, \n",
    "        hypothesis_transform=transformation\n",
    "    )\n",
    "    return error_rate\n",
    "\n",
    "# Función para calcular el BLEU\n",
    "def compute_bleu(reference, hypothesis):\n",
    "    ref_tokens = reference.split()\n",
    "    hyp_tokens = hypothesis.split()\n",
    "    smoothie = SmoothingFunction().method4\n",
    "    bleu_score = sentence_bleu([ref_tokens], hyp_tokens, smoothing_function=smoothie)\n",
    "    return bleu_score\n",
    "\n",
    "# Función para calcular ROUGE-L\n",
    "def compute_rouge(reference, hypothesis):\n",
    "    rouge_evaluator = Rouge()\n",
    "    scores = rouge_evaluator.get_scores(hypothesis, reference)\n",
    "    rouge_l = scores[0]['rouge-l']['f']\n",
    "    return rouge_l\n",
    "\n",
    "# Función para calcular las métricas para cada respuesta\n",
    "def calculate_metrics(results):\n",
    "    for result in results:\n",
    "        expected = result[\"expected_answer\"].strip()\n",
    "        generated = result[\"generated_answer\"].strip()\n",
    "        \n",
    "        result[\"token_error_rate\"] = compute_token_error_rate(expected, generated)\n",
    "        result[\"bleu_score\"] = compute_bleu(expected, generated)\n",
    "        try:\n",
    "            result[\"rouge_l\"] = compute_rouge(expected, generated)\n",
    "        except Exception as e:\n",
    "            result[\"rouge_l\"] = None\n",
    "            print(f\"Error al calcular ROUGE: {e}\")\n",
    "    return results"
   ],
   "metadata": {
    "collapsed": false,
    "ExecuteTime": {
     "end_time": "2025-02-27T09:23:07.282310400Z",
     "start_time": "2025-02-27T09:23:07.275797200Z"
    }
   },
   "id": "c5d043272c8aa7a8",
   "execution_count": 10
  },
  {
   "cell_type": "code",
   "outputs": [],
   "source": [
    "# Abrir los archivos JSON con los resultados\n",
    "with open(\"non_expert_results.json\", \"r\", encoding=\"utf-8\") as f:\n",
    "    non_expert_results = json.load(f)\n",
    "\n",
    "with open(\"expert_results.json\", \"r\", encoding=\"utf-8\") as f:\n",
    "    expert_results = json.load(f)"
   ],
   "metadata": {
    "collapsed": false,
    "ExecuteTime": {
     "end_time": "2025-02-27T09:23:07.312812300Z",
     "start_time": "2025-02-27T09:23:07.279156700Z"
    }
   },
   "id": "aea989bddbfa1a19",
   "execution_count": 11
  },
  {
   "cell_type": "code",
   "outputs": [],
   "source": [
    "# Calcular métricas para cada conjunto\n",
    "non_expert_results = calculate_metrics(non_expert_results)\n",
    "expert_results = calculate_metrics(expert_results)"
   ],
   "metadata": {
    "collapsed": false,
    "ExecuteTime": {
     "end_time": "2025-02-27T09:23:07.321106400Z",
     "start_time": "2025-02-27T09:23:07.284606600Z"
    }
   },
   "id": "a180cafd60689fe8",
   "execution_count": 12
  },
  {
   "cell_type": "code",
   "outputs": [
    {
     "name": "stdout",
     "output_type": "stream",
     "text": [
      "Resultados para preguntas no expertas con métricas:\n",
      "{'question': '¿Qué son los riesgos ESG?', 'expected_answer': 'Son aquellos riesgos relacionados con factores ambientales, sociales y de gobernanza que pueden afectar la estabilidad y funcionamiento de las instituciones financieras, incluyendo riesgos derivados de la transición hacia economías sostenibles y riesgos físicos (como eventos climáticos extremos).', 'generated_answer': 'Los riesgos ESG son:\\n\\nRiesgos ambientales, sociales y de gobernanza.', 'token_error_rate': 0.8421052631578947, 'bleu_score': 0.01689071874072545, 'rouge_l': 0.29268292314098754}\n",
      "{'question': '¿Cuál es el objetivo principal de estas directrices ESG?', 'expected_answer': 'Establecer estándares mínimos y metodologías de referencia para identificar, medir, gestionar y monitorizar los riesgos ESG en las instituciones.', 'generated_answer': 'El objetivo principal de estas directrices ESG es:\\n\\nGestionar riesgos ESG', 'token_error_rate': 0.7894736842105263, 'bleu_score': 0.02775914547320147, 'rouge_l': 0.21428570969387764}\n",
      "{'question': '¿Por qué es importante que las instituciones gestionen los riesgos ESG?', 'expected_answer': 'Porque estos riesgos pueden impactar la solidez financiera, la reputación y la viabilidad a largo plazo de las instituciones, afectando incluso los riesgos tradicionales.', 'generated_answer': 'Es importante que las instituciones gestionen los riesgos ESG para:\\n\\n- Mitigar impactos financieros\\n- Cumplir regulaciones \\n- Proteger su reputación\\n- Alinearse con expectativas sociales', 'token_error_rate': 1.0, 'bleu_score': 0.027734884684514755, 'rouge_l': 0.13636363137396712}\n",
      "{'question': '¿Qué se entiende por riesgo ambiental en este contexto?', 'expected_answer': 'Incluye tanto los riesgos derivados de la transición hacia una economía baja en carbono como aquellos relacionados con eventos físicos, como fenómenos meteorológicos extremos o la degradación del medio ambiente.', 'generated_answer': 'Basándome en el contexto proporcionado, el riesgo ambiental en este caso parece referirse principalmente a:\\n\\nLos riesgos relacionados con factores ambientales y climáticos que pueden afectar a las instituciones financieras y sus carteras. Esto incluiría riesgos físicos derivados del cambio climático, riesgos de transición hacia una economía baja en carbono,', 'token_error_rate': 1.5666666666666667, 'bleu_score': 0.11181553361211664, 'rouge_l': 0.3055555508024692}\n",
      "{'question': '¿Qué significa “riesgo de transición”?', 'expected_answer': 'Es el riesgo asociado a los cambios que surgen al pasar hacia una economía más sostenible, como nuevas políticas ambientales, innovaciones tecnológicas y cambios en las preferencias del mercado.', 'generated_answer': 'El \"riesgo de transición\" generalmente se refiere a los riesgos financieros y económicos asociados con la transición hacia una economía baja en carbono y más sostenible. Específicamente:\\n\\n- Son los riesgos que surgen para las empresas y organizaciones a medida que se produce el cambio hacia una economía más verde y con menos emisiones de carbono.\\n\\n- Pueden incluir r', 'token_error_rate': 1.6896551724137931, 'bleu_score': 0.056587275392682865, 'rouge_l': 0.2777777730246914}\n",
      "{'question': '¿Qué son los riesgos físicos en el ámbito ESG?', 'expected_answer': 'Son aquellos riesgos que provienen de eventos naturales o impactos físicos (como inundaciones, sequías o tormentas) que pueden dañar activos e interrumpir operaciones.', 'generated_answer': 'Los riesgos físicos en el ámbito ESG se refieren a los impactos negativos causados por eventos climáticos y ambientales extremos o cambios graduales en el clima y el medio ambiente. Algunos ejemplos incluyen:\\n\\n- Daños a instalaciones o infraestructura por inundaciones, tormentas, incendios, etc.\\n\\n- Disrupciones en las cadenas de suministro debi', 'token_error_rate': 2.0, 'bleu_score': 0.009871097982030548, 'rouge_l': 0.15624999559082045}\n",
      "{'question': '¿Qué papel tiene el EBA en la gestión de riesgos ESG?', 'expected_answer': 'El EBA emite directrices y estándares para ayudar a las instituciones a integrar y gestionar de forma eficaz los riesgos ESG dentro de sus marcos de gestión y supervisión.', 'generated_answer': 'Según el contexto proporcionado, el EBA (European Banking Authority) tiene un papel importante en proporcionar directrices y orientación sobre la gestión de riesgos ESG (ambientales, sociales y de gobernanza) para las instituciones financieras:\\n\\n1. El EBA ha desarrollado directrices sobre la gestión de riesgos ESG para las instituciones.\\n\\n2. Proporciona orientación', 'token_error_rate': 1.5517241379310345, 'bleu_score': 0.029146892432926435, 'rouge_l': 0.2333333285333334}\n",
      "{'question': '¿Cómo deben integrar las instituciones los riesgos ESG en su gestión?', 'expected_answer': 'Deben incorporarlos en sus procesos internos, evaluaciones de materialidad y planes de transición, integrándolos en la gestión de riesgos tradicional.', 'generated_answer': 'Las instituciones deben:\\n\\n- Desarrollar capacidades para identificar, evaluar y gestionar riesgos ESG\\n- Formar adecuadamente a directivos y personal\\n- Integrar riesgos ESG en políticas y procedimientos\\n- Considerar riesgos ESG en apetito y límites de riesgo\\n- Incluir indicadores ESG en seguimiento y escalado', 'token_error_rate': 1.85, 'bleu_score': 0.009728158838681967, 'rouge_l': 0.1249999954253474}\n",
      "{'question': '¿Qué es una evaluación de materialidad en riesgos ESG?', 'expected_answer': 'Es un análisis que permite identificar cuáles riesgos ESG son más relevantes para una institución, considerando su impacto potencial en la estabilidad financiera.', 'generated_answer': 'Una evaluación específica de la institución que proporciona una visión sobre la materialidad financiera de los riesgos ESG para su modelo de negocio y perfil de riesgo.', 'token_error_rate': 1.0869565217391304, 'bleu_score': 0.030823203537148958, 'rouge_l': 0.21739129934782622}\n",
      "{'question': '¿Qué debe incluir un plan de transición ESG?', 'expected_answer': 'Debe contener objetivos, plazos, hitos y medidas concretas para gestionar y mitigar los riesgos derivados de la transición hacia la sostenibilidad.', 'generated_answer': 'Según las directrices, un plan de transición ESG debe incluir:\\n\\n- Objetivos y metas\\n- Gobernanza \\n- Estrategia de implementación\\n- Métricas y seguimiento', 'token_error_rate': 0.9523809523809523, 'bleu_score': 0.015838650460592955, 'rouge_l': 0.10526315289473707}\n",
      "{'question': '¿Qué horizonte temporal se considera para los riesgos ESG?', 'expected_answer': 'Las directrices contemplan horizontes a corto, mediano y largo plazo, incluyendo análisis a 10 años o más.', 'generated_answer': 'Según el contexto proporcionado, para los riesgos ESG se consideran varios horizontes temporales, incluyendo:\\n\\n- Corto plazo\\n- Medio plazo  \\n- Largo plazo de al menos 10 años', 'token_error_rate': 1.2352941176470589, 'bleu_score': 0.02412847370802476, 'rouge_l': 0.14999999520000015}\n",
      "{'question': '¿Qué herramientas se pueden utilizar para medir los riesgos ESG?', 'expected_answer': 'Se pueden aplicar metodologías basadas en exposición, sector, cartera y análisis de escenarios para evaluar estos riesgos.', 'generated_answer': 'Según el texto, algunas herramientas que las instituciones pueden utilizar para medir y gestionar los riesgos ESG incluyen:\\n\\n- Diálogo con las contrapartes para entender mejor su perfil de riesgo y asegurar consistencia con el apetito de riesgo de la institución.\\n\\n- Proporcionar información y asesoramiento relevante a los clientes sobre la evaluación o mi', 'token_error_rate': 2.9411764705882355, 'bleu_score': 0.007918176444093893, 'rouge_l': 0.13333332927222236}\n",
      "{'question': '¿Qué es un análisis de escenarios en este contexto?', 'expected_answer': 'Es una técnica para evaluar la resiliencia de una institución frente a diferentes situaciones futuras adversas, considerando variables ambientales y sociales.', 'generated_answer': 'En este contexto, un análisis de escenarios es una herramienta para evaluar los potenciales impactos de los riesgos ESG (ambientales, sociales y de gobernanza) en las instituciones financieras bajo diferentes situaciones hipotéticas futuras.', 'token_error_rate': 1.3333333333333333, 'bleu_score': 0.030553082250225037, 'rouge_l': 0.2799999952000001}\n",
      "{'question': '¿Cómo se relacionan los riesgos ESG con la sostenibilidad?', 'expected_answer': 'Una gestión adecuada de los riesgos ESG ayuda a las instituciones a transitar hacia modelos de negocio más sostenibles y resilientes frente a cambios ambientales y sociales.', 'generated_answer': 'Los riesgos ESG están estrechamente relacionados con la sostenibilidad:\\n\\n- ESG significa \"Environmental, Social and Governance\" (Ambiental, Social y Gobernanza). Son factores no financieros que se consideran clave para la sostenibilidad a largo plazo de una empresa.\\n\\n- Los riesgos ESG son los riesgos relacionados con estos factores ambientales, sociales', 'token_error_rate': 1.6666666666666667, 'bleu_score': 0.020188879584463335, 'rouge_l': 0.19354838242976077}\n",
      "{'question': '¿Qué impacto pueden tener los riesgos ESG en la solvencia de una institución?', 'expected_answer': 'Pueden afectar la capacidad de la institución para hacer frente a sus obligaciones financieras, lo que puede requerir ajustes en la estructura de capital.', 'generated_answer': 'Los riesgos ESG (ambientales, sociales y de gobernanza) pueden tener varios impactos importantes en la solvencia de una institución financiera:\\n\\n1. Riesgos de crédito: Exposición a sectores o empresas afectadas por la transición climática o riesgos ambientales.\\n\\n2. Riesgos de mercado: Cambios en valoraciones de act', 'token_error_rate': 1.6666666666666667, 'bleu_score': 0.019024641736784295, 'rouge_l': 0.13793102986325817}\n",
      "{'question': '¿Cómo se comunica la información sobre riesgos ESG?', 'expected_answer': 'A través de informes internos y externos que detallan la evaluación, gestión y monitorización de estos riesgos de forma transparente.', 'generated_answer': 'Basado en las directrices mencionadas en el texto, algunas formas clave para comunicar la información sobre riesgos ESG incluyen:\\n\\n1. Utilizar los estándares de informes de sostenibilidad europeos desarrollados bajo la Directiva 2013/34/UE para empresas cotizadas.\\n\\n2. Usar estándares voluntarios de informes para PYMES no cotizadas,', 'token_error_rate': 2.1, 'bleu_score': 0.01830542387293536, 'rouge_l': 0.1454545411834712}\n",
      "{'question': '¿Qué importancia tiene la gobernanza en la gestión de riesgos ESG?', 'expected_answer': 'Una buena gobernanza garantiza la asignación de responsabilidades, el establecimiento de políticas claras y el seguimiento continuo de la gestión de estos riesgos.', 'generated_answer': 'La gobernanza es fundamental para la gestión de riesgos ESG.', 'token_error_rate': 0.8260869565217391, 'bleu_score': 0.03768217466941526, 'rouge_l': 0.35714285255102046}\n",
      "{'question': '¿Cuáles son los principales desafíos en la medición de riesgos ESG?', 'expected_answer': 'Destacan la falta de datos históricos robustos, la complejidad y naturaleza cambiante de los riesgos y la necesidad de desarrollar metodologías específicas.', 'generated_answer': 'Los principales desafíos en la medición de riesgos ESG incluyen:\\n\\n- Falta de datos estandarizados\\n- Complejidad de factores interrelacionados\\n- Horizonte temporal largo\\n- Incertidumbre en escenarios futuros\\n- Metodologías en desarrollo', 'token_error_rate': 1.0909090909090908, 'bleu_score': 0.02472070390781407, 'rouge_l': 0.14285713803854888}\n",
      "{'question': '¿Qué es el riesgo de reputación en relación con ESG?', 'expected_answer': 'Es el riesgo de que la percepción negativa sobre la gestión de los riesgos ESG afecte la imagen y la confianza de los stakeholders en la institución.', 'generated_answer': 'El riesgo de reputación relacionado con ESG (factores ambientales, sociales y de gobernanza) se refiere a:\\n\\n- El potencial impacto negativo en la reputación de una institución financiera debido a sus actividades, políticas o asociaciones relacionadas con temas ESG.\\n\\n- Puede surgir de controversias públicas, regulaciones, compromisos o comunicaciones sobre las actividades actuales', 'token_error_rate': 1.7037037037037037, 'bleu_score': 0.021196638762659856, 'rouge_l': 0.2499999957031251}\n",
      "{'question': '¿Por qué es fundamental la integración de datos en la evaluación de riesgos ESG?', 'expected_answer': 'Porque contar con datos precisos y consistentes es clave para evaluar de forma correcta los riesgos y tomar decisiones informadas que fortalezcan la resiliencia institucional.', 'generated_answer': 'La integración de datos es fundamental para:\\n\\nEvaluar riesgos ESG de forma integral', 'token_error_rate': 0.8, 'bleu_score': 0.022105882873913782, 'rouge_l': 0.22222221777777784}\n",
      "\n",
      "Resultados para preguntas expertas con métricas:\n",
      "{'question': '¿Cuáles son los principales componentes metodológicos para identificar y medir los riesgos ESG?', 'expected_answer': 'Se emplean metodologías combinadas basadas en exposición, análisis sectorial, evaluación de cartera y estudios de escenarios, permitiendo valorar tanto riesgos de transición como físicos.', 'generated_answer': 'Los principales componentes metodológicos para identificar y medir riesgos ESG incluyen:\\n\\n1. Análisis de materialidad\\n\\n2. Evaluación de impactos\\n\\n3. Métricas y KPIs\\n\\n4. Escenarios y pruebas de estrés\\n\\n5. Integración en modelos de riesgo', 'token_error_rate': 1.25, 'bleu_score': 0.012797472021137965, 'rouge_l': 0.1538461489644972}\n",
      "{'question': '¿Cómo debe realizarse la evaluación de materialidad en el contexto ESG?', 'expected_answer': 'La evaluación debe ser específica a cada institución, integrando análisis cualitativos y cuantitativos, y mapeando los factores ESG con sus canales de transmisión a los riesgos tradicionales.', 'generated_answer': 'Según las directrices, la evaluación de materialidad de riesgos ESG debe:\\n\\n- Realizarse como una evaluación específica de cada institución\\n- Proporcionar una visión de la materialidad financiera de los riesgos ESG para su modelo de negocio y perfil de riesgo\\n- Ser consistente con otras evaluaciones de materialidad de la institución\\n- Integrarse en el proceso', 'token_error_rate': 1.6296296296296295, 'bleu_score': 0.01668986868399407, 'rouge_l': 0.22950819194840108}\n",
      "{'question': '¿Qué criterios se utilizan para determinar la materialidad de un riesgo ESG?', 'expected_answer': 'Se consideran la probabilidad de ocurrencia, la magnitud del impacto financiero, la exposición y la relevancia para la estrategia de la institución.', 'generated_answer': 'Según el contexto proporcionado, algunos de los principales criterios para determinar la materialidad de un riesgo ESG son:\\n\\n- La naturaleza, tamaño y complejidad de las actividades, carteras, servicios y productos de la institución.\\n\\n- El impacto potencial en términos de reputación y otros impactos sustanciales.\\n\\n- La perspectiva de la importancia relativa en la cartera', 'token_error_rate': 2.0454545454545454, 'bleu_score': 0.030913869551832184, 'rouge_l': 0.1724137891082046}\n",
      "{'question': '¿Cómo se integran los riesgos ESG en los procesos de ICAAP e ILAAP?', 'expected_answer': 'Las instituciones deben incorporar evaluaciones de riesgos ESG en sus procesos de adecuación de capital y liquidez, ajustando horizontes temporales y metodologías para reflejar estos riesgos.', 'generated_answer': 'Según las directrices, los riesgos ESG materiales y sus impactos en los tipos de riesgos financieros tradicionales deben integrarse en los procesos de ICAAP e ILAAP de la siguiente manera:\\n\\n- Incorporar los riesgos ESG relevantes en el proceso global del ICAAP, sin tratarlos como riesgos independientes sino como factores que afec', 'token_error_rate': 1.6538461538461537, 'bleu_score': 0.024502185470698983, 'rouge_l': 0.1612903180020813}\n",
      "{'question': '¿Qué papel juegan los análisis de escenarios en la gestión de riesgos ESG?', 'expected_answer': 'Permiten evaluar la resiliencia de la institución frente a distintos escenarios adversos, integrando variables ambientales y sociales para ajustar estrategias y requerimientos de capital.', 'generated_answer': 'Los análisis de escenarios juegan un papel muy importante en la gestión de riesgos ESG por varias razones:\\n\\n1. Permiten evaluar los impactos potenciales de diferentes trayectorias climáticas y de transición energética en el largo plazo. Esto es clave dado el horizonte temporal extendido de muchos riesgos ESG.\\n\\n2. Ayudan a identificar r', 'token_error_rate': 2.0416666666666665, 'bleu_score': 0.017306983076871882, 'rouge_l': 0.18181817747933895}\n",
      "{'question': '¿Cuáles son los desafíos en la obtención y calidad de datos para evaluar riesgos ESG?', 'expected_answer': 'Se destaca la escasez de datos históricos, la variabilidad en la calidad de la información y la necesidad de recurrir a proxies o estimaciones para completar lagunas informativas.', 'generated_answer': 'Algunos de los principales desafíos en la obtención y calidad de datos para evaluar riesgos ESG son:\\n\\n1. Falta de datos consistentes y comparables entre empresas y sectores.\\n\\n2. Ausencia de estándares unificados para reportar métricas ESG.\\n\\n3. Datos incompletos o no disponibles para ciertos factores ESG.\\n\\n4. Dificultad para', 'token_error_rate': 1.5, 'bleu_score': 0.02538617209734753, 'rouge_l': 0.22950819210964807}\n",
      "{'question': '¿Qué implicaciones tiene la integración de riesgos ESG en el apetito de riesgo de una institución?', 'expected_answer': 'Debe reflejarse en la definición de límites, umbrales y KRIs específicos, adaptando el apetito de riesgo a la materialidad y complejidad de los factores ESG.', 'generated_answer': 'Según las directrices, la integración de riesgos ESG en el apetito de riesgo de una institución implica:\\n\\n- Incluir consideraciones ESG en la estrategia de negocio y apetito de riesgo general.\\n\\n- Establecer objetivos y límites específicos para riesgos ESG materiales.\\n\\n- Alinear el apetito de riesgo ESG con', 'token_error_rate': 1.56, 'bleu_score': 0.06449817351457392, 'rouge_l': 0.274509799077278}\n",
      "{'question': '¿Cómo se aplican las metodologías de alineación de cartera en el análisis ESG?', 'expected_answer': 'Estas metodologías miden el grado de alineación de las carteras con trayectorias de transición y escenarios de sostenibilidad, identificando concentraciones de riesgo y desviaciones significativas.', 'generated_answer': 'Las metodologías de alineación de cartera en el análisis ESG se aplican típicamente para:\\n\\n- Evaluar la alineación de las inversiones con objetivos climáticos\\n- Medir la exposición a riesgos ESG\\n- Identificar oportunidades de transición\\n- Establecer metas de descarbonización\\n- Monitorear el progreso hacia objetivos ESG', 'token_error_rate': 1.4, 'bleu_score': 0.05197024192203586, 'rouge_l': 0.22222221755829916}\n",
      "{'question': '¿Qué importancia tienen las evaluaciones de vulnerabilidad a riesgos físicos?', 'expected_answer': 'Son esenciales para determinar la exposición geográfica y la sensibilidad de activos críticos frente a eventos físicos, lo que informa sobre la resiliencia y necesidad de medidas de mitigación.', 'generated_answer': 'Las evaluaciones de vulnerabilidad a riesgos físicos son muy importantes, ya que permiten:\\n\\n1. Identificar y priorizar los principales riesgos físicos que enfrenta una institución.\\n\\n2. Evaluar el potencial impacto financiero y operativo de esos riesgos.\\n\\n3. Desarrollar estrategias y medidas de mitigación adecuadas.\\n\\n4. Me', 'token_error_rate': 1.3448275862068966, 'bleu_score': 0.01967045808314119, 'rouge_l': 0.19354838235171706}\n",
      "{'question': '¿De qué forma se integran los riesgos de transición en los modelos de scoring crediticio?', 'expected_answer': 'Se incorporan variables relacionadas con emisiones, eficiencia energética y políticas de transición, ajustando la evaluación crediticia a la exposición ESG de la contraparte.', 'generated_answer': 'Basado en el contexto proporcionado, algunas formas de integrar los riesgos de transición en los modelos de scoring crediticio son:\\n\\n1. Considerando factores ESG, especialmente ambientales, en la evaluación general del riesgo de incumplimiento de un prestatario.\\n\\n2. Incorporando estos factores en los modelos de scoring o calificación crediticia, cuando esté justific', 'token_error_rate': 2.0434782608695654, 'bleu_score': 0.014806060072528467, 'rouge_l': 0.10169491077276666}\n",
      "{'question': '¿Qué medidas de mitigación se recomiendan para gestionar riesgos ESG en carteras crediticias?', 'expected_answer': 'Entre ellas se encuentran ajustes en condiciones financieras, diversificación, establecimiento de límites sectoriales y el engagement para mejorar las prácticas ESG de las contrapartes.', 'generated_answer': 'Las principales medidas de mitigación recomendadas son:\\n\\n- Análisis de planes de transición de empresas en sectores clave\\n- Combinación de enfoques cualitativos y cuantitativos\\n- Establecer métricas cuantitativas de riesgo crediticio\\n- Incorporar factores ESG en políticas', 'token_error_rate': 1.3333333333333333, 'bleu_score': 0.011415396597312463, 'rouge_l': 0.11764705391772416}\n",
      "{'question': '¿Cómo deben documentarse las metodologías y supuestos en la evaluación ESG?', 'expected_answer': 'Es imprescindible justificar la elección de escenarios, criterios de selección y cualquier cambio metodológico, garantizando transparencia y consistencia en los procesos internos.', 'generated_answer': 'Según las directrices, las instituciones deben documentar adecuadamente las metodologías y supuestos utilizados en la evaluación de riesgos ESG. Algunos aspectos clave que se deben documentar incluyen:\\n\\n- Las metodologías y métricas utilizadas para identificar y medir los riesgos ESG.\\n\\n- Los supuestos y datos empleados en los análisis y evaluaciones.', 'token_error_rate': 1.9545454545454546, 'bleu_score': 0.016675661241236543, 'rouge_l': 0.1071428525510206}\n",
      "{'question': '¿Qué rol desempeñan los KRIs en la monitorización de riesgos ESG?', 'expected_answer': 'Los KRIs permiten establecer límites operativos y alertas tempranas, facilitando el seguimiento continuo y la gestión proactiva de las exposiciones ESG.', 'generated_answer': 'Los KRIs (Key Risk Indicators) desempeñan un rol importante en la monitorización de riesgos ESG al:\\n\\nAnclar consideraciones de riesgo ESG', 'token_error_rate': 0.8571428571428571, 'bleu_score': 0.03370530328619052, 'rouge_l': 0.2564102514135438}\n",
      "{'question': '¿Cómo se deben integrar los riesgos ESG en la estructura de gobernanza interna?', 'expected_answer': 'Se deben asignar responsabilidades claras, fomentar la capacitación en temas ESG y establecer controles y reportes que integren estos riesgos en el sistema de gobierno corporativo.', 'generated_answer': 'Según las directrices, los riesgos ESG deben integrarse en la estructura de gobernanza interna de las siguientes formas principales:\\n\\n1. Incorporándolos en el marco de control interno a través de las tres líneas de defensa.\\n\\n2. Asignando responsabilidades y líneas de reporte claras sobre riesgos ESG.\\n\\n3. Implementando una cultura de riesgo que', 'token_error_rate': 1.8461538461538463, 'bleu_score': 0.018741184819455053, 'rouge_l': 0.18461537995739655}\n",
      "{'question': '¿Qué papel tienen los datos externos y de terceros en la evaluación de riesgos ESG?', 'expected_answer': 'Son fundamentales para complementar la información interna, utilizando reportes de sostenibilidad, estándares internacionales y datos comparativos para enriquecer el análisis.', 'generated_answer': 'Según el contexto proporcionado, los datos externos y de terceros juegan un papel importante en la evaluación de riesgos ESG:\\n\\n- Se menciona la necesidad de un \"inventario de datos con identificación de todos los puntos de datos relevantes de riesgo ESG y evaluación de su disponibilidad y calidad\".\\n\\n- Esto sugiere que se utilizan tanto datos internos como externos/de terceros para eval', 'token_error_rate': 2.85, 'bleu_score': 0.00781553615864097, 'rouge_l': 0.12499999582519546}\n",
      "{'question': '¿Cómo se aborda la incertidumbre inherente a la medición de riesgos ESG?', 'expected_answer': 'Mediante análisis de sensibilidad, escenarios alternativos y ajustes en la planificación de capital, para mitigar la incertidumbre derivada de la falta de datos históricos completos.', 'generated_answer': 'Según las directrices, para abordar la incertidumbre inherente en la medición de riesgos ESG, las instituciones deben:\\n\\n- Utilizar múltiples escenarios y análisis de sensibilidad\\n- Aplicar juicio experto cuando haya brechas de datos\\n- Usar datos cualitativos y aproximaciones cuando falten datos cuantitativos\\n- Adoptar un enf', 'token_error_rate': 1.52, 'bleu_score': 0.02962431462507161, 'rouge_l': 0.17543859193598044}\n",
      "{'question': '¿Qué implicaciones regulatorias tienen estas directrices ESG para las instituciones financieras?', 'expected_answer': 'Implican la incorporación de riesgos ESG en la gestión interna, la presentación de informes y el ajuste en la estructura de capital y gobernanza, en línea con las exigencias regulatorias.', 'generated_answer': 'Basándome en el contenido del documento, algunas de las principales implicaciones regulatorias de estas directrices ESG para las instituciones financieras son:\\n\\n1. Necesidad de integrar los riesgos ESG en sus estrategias, procesos de gestión de riesgos y gobernanza. Esto implica adaptar políticas, procedimientos y controles internos.\\n\\n2. Requerimiento de', 'token_error_rate': 1.4, 'bleu_score': 0.040741833362807636, 'rouge_l': 0.26229507735554963}\n",
      "{'question': '¿Cómo se relaciona el análisis ESG con los objetivos de sostenibilidad a largo plazo?', 'expected_answer': 'Permite a las instituciones alinear sus estrategias de riesgo con metas de sostenibilidad, anticipando cambios regulatorios y de mercado que aseguren la resiliencia a largo plazo.', 'generated_answer': 'El análisis ESG se relaciona estrechamente con los objetivos de sostenibilidad a largo plazo de las siguientes formas principales:\\n\\n1. Proporciona un marco para evaluar riesgos y oportunidades de sostenibilidad. El análisis ESG permite a las organizaciones identificar y gestionar factores ambientales, sociales y de gobernanza que pueden impactar su desempeño y viabilida', 'token_error_rate': 1.7692307692307692, 'bleu_score': 0.02408403146614982, 'rouge_l': 0.24999999539550793}\n",
      "{'question': '¿Qué papel desempeñan los planes de transición en la mitigación de riesgos ESG?', 'expected_answer': 'Son fundamentales para definir acciones concretas, establecer hitos y adaptar las estrategias a horizontes de 10 años o más, reduciendo la exposición a riesgos emergentes.', 'generated_answer': 'Los planes de transición desempeñan un papel importante en la mitigación de riesgos ESG de las siguientes maneras:\\n\\n1. Establecen objetivos y métricas cuantitativas para abordar los riesgos ESG, especialmente los relacionados con la transición hacia una economía sostenible.\\n\\n2. Definen el alcance de sectores, carteras y actividades económicas cubiertas', 'token_error_rate': 1.92, 'bleu_score': 0.009493799836516341, 'rouge_l': 0.12121211658402223}\n",
      "{'question': '¿Cómo puede la integración de riesgos ESG mejorar la competitividad de una institución?', 'expected_answer': 'Al gestionar proactivamente estos riesgos, las instituciones optimizan su estructura de riesgo, refuerzan su imagen corporativa y se preparan mejor para futuras exigencias regulatorias, mejorando su posición en el mercado.', 'generated_answer': 'La integración de riesgos ESG puede mejorar la competitividad mediante:\\n\\n- Mejor gestión de riesgos\\n- Atracción de inversores/clientes responsables\\n- Innovación en productos sostenibles\\n- Mejora de reputación y marca', 'token_error_rate': 0.9666666666666667, 'bleu_score': 0.011908226236406779, 'rouge_l': 0.07692307195266304}\n"
     ]
    }
   ],
   "source": [
    "# Imprimir resultados para verificación\n",
    "print(\"Resultados para preguntas no expertas con métricas:\")\n",
    "for res in non_expert_results:\n",
    "    print(res)\n",
    "    \n",
    "print(\"\\nResultados para preguntas expertas con métricas:\")\n",
    "for res in expert_results:\n",
    "    print(res)"
   ],
   "metadata": {
    "collapsed": false,
    "ExecuteTime": {
     "end_time": "2025-02-27T09:23:07.326303900Z",
     "start_time": "2025-02-27T09:23:07.319527600Z"
    }
   },
   "id": "9330e59646106337",
   "execution_count": 13
  },
  {
   "cell_type": "code",
   "outputs": [],
   "source": [
    "# Guardar los resultados enriquecidos en nuevos archivos JSON\n",
    "with open(\"non_expert_results_with_metrics.json\", \"w\", encoding=\"utf-8\") as f:\n",
    "    json.dump(non_expert_results, f, ensure_ascii=False, indent=4)\n",
    "\n",
    "with open(\"expert_results_with_metrics.json\", \"w\", encoding=\"utf-8\") as f:\n",
    "    json.dump(expert_results, f, ensure_ascii=False, indent=4)\n"
   ],
   "metadata": {
    "collapsed": false,
    "ExecuteTime": {
     "end_time": "2025-02-27T11:13:44.738962600Z",
     "start_time": "2025-02-27T11:13:44.725878100Z"
    }
   },
   "id": "e6b0930a706d1a43",
   "execution_count": 14
  },
  {
   "cell_type": "code",
   "outputs": [],
   "source": [],
   "metadata": {
    "collapsed": false
   },
   "id": "4158bb746e5974c5"
  }
 ],
 "metadata": {
  "kernelspec": {
   "display_name": "Python 3",
   "language": "python",
   "name": "python3"
  },
  "language_info": {
   "codemirror_mode": {
    "name": "ipython",
    "version": 2
   },
   "file_extension": ".py",
   "mimetype": "text/x-python",
   "name": "python",
   "nbconvert_exporter": "python",
   "pygments_lexer": "ipython2",
   "version": "2.7.6"
  }
 },
 "nbformat": 4,
 "nbformat_minor": 5
}
