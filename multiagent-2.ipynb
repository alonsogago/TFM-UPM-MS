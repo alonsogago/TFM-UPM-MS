{
 "cells": [
  {
   "cell_type": "code",
   "execution_count": 13,
   "id": "initial_id",
   "metadata": {
    "collapsed": true,
    "ExecuteTime": {
     "end_time": "2025-05-14T14:09:56.598962800Z",
     "start_time": "2025-05-14T14:09:56.592711Z"
    }
   },
   "outputs": [],
   "source": [
    "import os\n",
    "import json\n",
    "import PyPDF2\n",
    "from qdrant_client import QdrantClient\n",
    "from qdrant_client.http.models import PointStruct, VectorParams\n",
    "from langchain_huggingface import HuggingFaceEmbeddings\n",
    "from langchain_qdrant import QdrantVectorStore\n",
    "from langchain_aws import BedrockLLM\n",
    "from langchain.chains import RetrievalQA"
   ]
  },
  {
   "cell_type": "code",
   "outputs": [],
   "source": [
    "\n",
    "# Parámetros Qdrant\n",
    "QDRANT_HOST = os.getenv(\"QDRANT_HOST\", \"localhost\")\n",
    "QDRANT_PORT = int(os.getenv(\"QDRANT_PORT\", 6333))\n",
    "COLLECTION_NAME = \"documentos\"\n",
    "\n",
    "# Parámetros Amazon Bedrock\n",
    "# Si usas perfil AWS:\n",
    "BEDROCK_PROFILE = os.getenv(\"BEDROCK_PROFILE\", \"bedrock-admin\")\n",
    "# Modelo a usar en Bedrock\n",
    "BEDROCK_MODEL_ID = os.getenv(\"BEDROCK_MODEL_ID\", \"amazon.titan-text-express-v1\")\n"
   ],
   "metadata": {
    "collapsed": false,
    "ExecuteTime": {
     "end_time": "2025-05-14T14:09:56.607697700Z",
     "start_time": "2025-05-14T14:09:56.603259Z"
    }
   },
   "id": "d8ab0b11490ec1f0",
   "execution_count": 14
  },
  {
   "cell_type": "code",
   "outputs": [],
   "source": [
    "# Función para leer PDF completo a texto\n",
    "def read_pdf(file_path: str) -> str:\n",
    "    text = \"\"\n",
    "    with open(file_path, 'rb') as f:\n",
    "        reader = PyPDF2.PdfReader(f)\n",
    "        for page in reader.pages:\n",
    "            if (p := page.extract_text()):\n",
    "                text += p + \"\\n\"\n",
    "    return text"
   ],
   "metadata": {
    "collapsed": false,
    "ExecuteTime": {
     "end_time": "2025-05-14T14:09:56.609209200Z",
     "start_time": "2025-05-14T14:09:56.605749200Z"
    }
   },
   "id": "ff585e65d8233502",
   "execution_count": 15
  },
  {
   "cell_type": "code",
   "outputs": [],
   "source": [
    "def chunk_text(text: str, chunk_size: int = 1000, overlap: int = 100) -> list[str]:\n",
    "    chunks = []\n",
    "    start = 0\n",
    "    while start < len(text):\n",
    "        end = start + chunk_size\n",
    "        chunks.append(text[start:end])\n",
    "        start += chunk_size - overlap\n",
    "    return chunks"
   ],
   "metadata": {
    "collapsed": false,
    "ExecuteTime": {
     "end_time": "2025-05-14T14:09:56.625775300Z",
     "start_time": "2025-05-14T14:09:56.610262800Z"
    }
   },
   "id": "e891ecb37c41bdb3",
   "execution_count": 16
  },
  {
   "cell_type": "code",
   "outputs": [
    {
     "name": "stdout",
     "output_type": "stream",
     "text": [
      "Leyendo PDF…\n",
      "Dividiendo en chunks…\n",
      "478 chunks generados.\n",
      "Hola\n",
      "Calculando embeddings…\n",
      "Subiendo embeddings a Qdrant…\n",
      "Embeddings cargados correctamente.\n"
     ]
    }
   ],
   "source": [
    "# 3.1 Inicializar clientes y modelos\n",
    "qdrant_client = QdrantClient(host=QDRANT_HOST, port=QDRANT_PORT)\n",
    "embedder = HuggingFaceEmbeddings(model_name=\"all-MiniLM-L6-v2\")\n",
    "\n",
    "# 3.2 Leer y chunkear PDF\n",
    "pdf_path = \"documento.pdf\"\n",
    "print(\"Leyendo PDF…\")\n",
    "document_text = read_pdf(pdf_path)\n",
    "print(\"Dividiendo en chunks…\")\n",
    "chunks = chunk_text(document_text, chunk_size=1000, overlap=100)\n",
    "print(f\"{len(chunks)} chunks generados.\")\n",
    "\n",
    "# 3.3 Crear colección si no existe\n",
    "try:\n",
    "    # Intenta usar directamente la API de SentenceTransformer\n",
    "    dimension = embedder.client.get_sentence_embedding_dimension()\n",
    "except AttributeError:\n",
    "    # En caso de que no exista, calcula la dimensión haciendo un embed de prueba\n",
    "    dimension = len(embedder.embed_query(\"test\"))\n",
    "    print(\"Hola\")\n",
    "collections = qdrant_client.get_collections().collections\n",
    "if not any(col.name == COLLECTION_NAME for col in collections):\n",
    "    print(\"Creando colección en Qdrant…\")\n",
    "    qdrant_client.create_collection(\n",
    "        collection_name=COLLECTION_NAME,\n",
    "        vectors_config=VectorParams(size=dimension, distance=\"Cosine\")\n",
    "    )\n",
    "    print(\"Colección creada.\")\n",
    "\n",
    "# 3.4 Calcular embeddings y upsert\n",
    "print(\"Calculando embeddings…\")\n",
    "vectors = embedder.embed_documents(chunks)\n",
    "points = [PointStruct(id=i, vector=v, payload={\"text\": c})\n",
    "          for i, (c, v) in enumerate(zip(chunks, vectors))]\n",
    "print(\"Subiendo embeddings a Qdrant…\")\n",
    "qdrant_client.upsert(collection_name=COLLECTION_NAME, points=points)\n",
    "print(\"Embeddings cargados correctamente.\")"
   ],
   "metadata": {
    "collapsed": false,
    "ExecuteTime": {
     "end_time": "2025-05-14T14:10:16.657407800Z",
     "start_time": "2025-05-14T14:09:56.615979700Z"
    }
   },
   "id": "4d82859f7da778ef",
   "execution_count": 17
  },
  {
   "cell_type": "code",
   "outputs": [],
   "source": [
    "# 4.1 Crear vectorstore y retriever\n",
    "tlr_vectorstore = QdrantVectorStore(\n",
    "    client=qdrant_client,\n",
    "    collection_name=COLLECTION_NAME,\n",
    "    embedding=embedder\n",
    ")\n",
    "retriever = tlr_vectorstore.as_retriever(search_kwargs={\"k\": 5})\n",
    "\n",
    "# 4.2 Inicializar LLM de Bedrock\n",
    "# Opción A: con perfil AWS\n",
    "tlr_llm = BedrockLLM(\n",
    "    credentials_profile_name=BEDROCK_PROFILE,\n",
    "    model_id=BEDROCK_MODEL_ID\n",
    ")\n",
    "\n",
    "# 4.3 Definir cadena RetrievalQA\n",
    "tlr_qa_agent = RetrievalQA.from_chain_type(\n",
    "    llm=tlr_llm,\n",
    "    chain_type=\"refine\",  # o map_reduce/refine según tus necesidades\n",
    "    retriever=retriever,\n",
    "    return_source_documents=False\n",
    ")"
   ],
   "metadata": {
    "collapsed": false,
    "ExecuteTime": {
     "end_time": "2025-05-14T14:10:18.829631700Z",
     "start_time": "2025-05-14T14:10:16.655200Z"
    }
   },
   "id": "a7f890ffb2bbe653",
   "execution_count": 18
  },
  {
   "cell_type": "code",
   "outputs": [
    {
     "name": "stdout",
     "output_type": "stream",
     "text": [
      "Evaluando pregunta: ¿Cuáles son los principales componentes metodológicos para identificar y medir los riesgos ESG?\n",
      "Evaluando pregunta: ¿Cómo debe realizarse la evaluación de materialidad en el contexto ESG?\n",
      "Evaluando pregunta: ¿Qué criterios se utilizan para determinar la materialidad de un riesgo ESG?\n",
      "Evaluando pregunta: ¿Cómo se integran los riesgos ESG en los procesos de ICAAP e ILAAP?\n",
      "Evaluando pregunta: ¿Qué papel juegan los análisis de escenarios en la gestión de riesgos ESG?\n",
      "Evaluando pregunta: ¿Cuáles son los desafíos en la obtención y calidad de datos para evaluar riesgos ESG?\n",
      "Evaluando pregunta: ¿Qué implicaciones tiene la integración de riesgos ESG en el apetito de riesgo de una institución?\n",
      "Evaluando pregunta: ¿Cómo se aplican las metodologías de alineación de cartera en el análisis ESG?\n",
      "Evaluando pregunta: ¿Qué importancia tienen las evaluaciones de vulnerabilidad a riesgos físicos?\n",
      "Evaluando pregunta: ¿De qué forma se integran los riesgos de transición en los modelos de scoring crediticio?\n",
      "Evaluando pregunta: ¿Qué medidas de mitigación se recomiendan para gestionar riesgos ESG en carteras crediticias?\n",
      "Evaluando pregunta: ¿Cómo deben documentarse las metodologías y supuestos en la evaluación ESG?\n",
      "Evaluando pregunta: ¿Qué rol desempeñan los KRIs en la monitorización de riesgos ESG?\n",
      "Evaluando pregunta: ¿Cómo se deben integrar los riesgos ESG en la estructura de gobernanza interna?\n",
      "Evaluando pregunta: ¿Qué papel tienen los datos externos y de terceros en la evaluación de riesgos ESG?\n",
      "Evaluando pregunta: ¿Cómo se aborda la incertidumbre inherente a la medición de riesgos ESG?\n",
      "Evaluando pregunta: ¿Qué implicaciones regulatorias tienen estas directrices ESG para las instituciones financieras?\n",
      "Evaluando pregunta: ¿Cómo se relaciona el análisis ESG con los objetivos de sostenibilidad a largo plazo?\n",
      "Evaluando pregunta: ¿Qué papel desempeñan los planes de transición en la mitigación de riesgos ESG?\n",
      "Evaluando pregunta: ¿Cómo puede la integración de riesgos ESG mejorar la competitividad de una institución?\n",
      "Evaluando pregunta: ¿Cuál es la fecha de aplicación de las directrices para instituciones grandes y para SNCIs?\n",
      "Evaluando pregunta: ¿De qué forma se aborda el principio de proporcionalidad en la gestión de riesgos ESG según estas directrices?\n",
      "Evaluando pregunta: ¿Qué cambios legislativos han impulsado la emisión de estas directrices ESG?\n",
      "Evaluando pregunta: ¿Cómo se integra el análisis de riesgos ESG en la evaluación de riesgos operacionales y reputacionales?\n",
      "Evaluando pregunta: ¿Qué papel juegan las directrices ESG en la estrategia de transición de las instituciones financieras?\n",
      "Evaluando pregunta: ¿Cómo se vinculan estas directrices ESG con los objetivos de la European Green Deal y la legislación sobre sostenibilidad?\n",
      "Evaluando pregunta: ¿Qué requisitos específicos se establecen para la gestión de riesgos ambientales frente a riesgos sociales y de gobernanza?\n",
      "Evaluando pregunta: ¿Cómo se debe estructurar un plan de transición según estas directrices ESG?\n",
      "Evaluando pregunta: ¿Qué papel tiene la resiliencia a largo plazo (mínimo 10 años) en el enfoque de estas directrices ESG?\n",
      "Evaluando pregunta: ¿Qué consideraciones se deben tener en cuenta para el uso de proxies y estimaciones en la medición de riesgos ESG?\n",
      "Evaluando pregunta: ¿Cómo contribuyen estas directrices a la convergencia de prácticas en el ámbito de ESG a nivel europeo?\n",
      "Evaluando pregunta: ¿Qué diferencias existen en la aplicación de estas directrices entre instituciones grandes y SNCIs?\n",
      "Evaluando pregunta: ¿Qué medidas de reporte y comunicación se exigen para el cumplimiento de las directrices ESG?\n",
      "Evaluando pregunta: ¿De qué forma se reflejan los resultados de la evaluación de materialidad ESG en el ICAAP de la institución?\n",
      "Evaluando pregunta: ¿Qué interrelación existe entre los riesgos ESG y los riesgos tradicionales según estas directrices?\n",
      "Evaluando pregunta: ¿Cómo se evalúa el impacto de la degradación de la biodiversidad en el análisis de riesgos ESG?\n",
      "Evaluando pregunta: ¿Qué metodologías se recomiendan para cuantificar los riesgos físicos relacionados con eventos climáticos extremos?\n",
      "Evaluando pregunta: ¿De qué manera se aborda la incertidumbre en las proyecciones de escenarios a largo plazo en el análisis ESG?\n",
      "Evaluando pregunta: ¿Qué criterios deben utilizarse para validar la calidad de los datos externos en el análisis ESG?\n",
      "Evaluando pregunta: ¿Cuál es el rol de la supervisión prudencial en la aplicación de estas directrices ESG?\n",
      "Guardado: Expert-questions-output.json\n",
      "Evaluando pregunta: ¿Qué son los riesgos ESG?\n",
      "Evaluando pregunta: ¿Cuál es el objetivo principal de estas directrices ESG?\n",
      "Evaluando pregunta: ¿Por qué es importante que las instituciones gestionen los riesgos ESG?\n",
      "Evaluando pregunta: ¿Qué se entiende por riesgo ambiental en este contexto?\n",
      "Evaluando pregunta: ¿Qué significa “riesgo de transición”?\n",
      "Evaluando pregunta: ¿Qué son los riesgos físicos en el ámbito ESG?\n",
      "Evaluando pregunta: ¿Qué papel tiene el EBA en la gestión de riesgos ESG?\n",
      "Evaluando pregunta: ¿Cómo deben integrar las instituciones los riesgos ESG en su gestión?\n",
      "Evaluando pregunta: ¿Qué es una evaluación de materialidad en riesgos ESG?\n",
      "Evaluando pregunta: ¿Qué debe incluir un plan de transición ESG?\n",
      "Evaluando pregunta: ¿Qué horizonte temporal se considera para los riesgos ESG?\n",
      "Evaluando pregunta: ¿Qué herramientas se pueden utilizar para medir los riesgos ESG?\n",
      "Evaluando pregunta: ¿Qué es un análisis de escenarios en este contexto?\n",
      "Evaluando pregunta: ¿Cómo se relacionan los riesgos ESG con la sostenibilidad?\n",
      "Evaluando pregunta: ¿Qué impacto pueden tener los riesgos ESG en la solvencia de una institución?\n",
      "Evaluando pregunta: ¿Cómo se comunica la información sobre riesgos ESG?\n",
      "Evaluando pregunta: ¿Qué importancia tiene la gobernanza en la gestión de riesgos ESG?\n",
      "Evaluando pregunta: ¿Cuáles son los principales desafíos en la medición de riesgos ESG?\n",
      "Evaluando pregunta: ¿Qué es el riesgo de reputación en relación con ESG?\n",
      "Evaluando pregunta: ¿Por qué es fundamental la integración de datos en la evaluación de riesgos ESG?\n",
      "Evaluando pregunta: ¿Qué significa que una institución debe evaluar los riesgos ESG a corto, mediano y largo plazo?\n",
      "Evaluando pregunta: ¿Por qué se requiere actualizar la evaluación de materialidad de riesgos ESG periódicamente?\n",
      "Evaluando pregunta: ¿De qué manera ayuda el análisis de escenarios a la toma de decisiones en riesgos ESG?\n",
      "Evaluando pregunta: ¿Cómo pueden los riesgos ESG influir en la reputación de una institución?\n",
      "Evaluando pregunta: ¿Qué se entiende por 'riesgo social' en el contexto ESG?\n",
      "Evaluando pregunta: ¿Cómo ayudan las directrices ESG a mejorar la gestión de riesgos en las instituciones financieras?\n",
      "Evaluando pregunta: ¿Qué es un 'KRI' y por qué es importante en el seguimiento de riesgos ESG?\n",
      "Evaluando pregunta: ¿De qué forma se relacionan los riesgos ESG con la sostenibilidad empresarial?\n",
      "Evaluando pregunta: ¿Qué significa que los riesgos ESG puedan afectar los riesgos tradicionales, como el crédito o el mercado?\n",
      "Evaluando pregunta: ¿Por qué es importante que las instituciones recopilen datos específicos sobre sus exposiciones a riesgos ESG?\n",
      "Evaluando pregunta: ¿Qué papel tienen los datos de sostenibilidad de terceros en la evaluación de riesgos ESG?\n",
      "Evaluando pregunta: ¿Cómo se relaciona el plan de transición con la gestión de riesgos ESG?\n",
      "Evaluando pregunta: ¿Qué significa que las directrices consideren un horizonte a 10 años para la evaluación de riesgos?\n",
      "Evaluando pregunta: ¿Cómo puede afectar el cambio climático a las operaciones de una institución financiera?\n",
      "Evaluando pregunta: ¿Por qué es necesario integrar tanto datos cuantitativos como cualitativos en la evaluación de riesgos ESG?\n",
      "Evaluando pregunta: ¿Qué implica el término 'materialidad' en la gestión de riesgos ESG?\n",
      "Evaluando pregunta: ¿Qué beneficios trae a una institución la actualización periódica de su evaluación ESG?\n",
      "Evaluando pregunta: ¿Cómo influyen las políticas públicas en la gestión de riesgos ESG?\n",
      "Evaluando pregunta: ¿Qué papel juega la tecnología en la recopilación y análisis de datos para riesgos ESG?\n",
      "Evaluando pregunta: ¿Cómo pueden los clientes y stakeholders influir en la gestión de riesgos ESG de una institución?\n",
      "Guardado: Not-expert-questions-output.json\n"
     ]
    }
   ],
   "source": [
    "# Función para procesar y guardar respuestas\n",
    "def process_questions(input_json: str, output_json: str) -> None:\n",
    "    with open(input_json, 'r', encoding='utf-8') as f:\n",
    "        qa_list = json.load(f)\n",
    "\n",
    "    results = []\n",
    "    for item in qa_list:\n",
    "        q = item.get(\"Q\") or item.get(\"question\")\n",
    "        exp = item.get(\"A\") or item.get(\"expected_answer\")\n",
    "        \n",
    "        print(f\"Evaluando pregunta: {q}\")\n",
    "        \n",
    "        out = tlr_qa_agent.invoke({\"query\": q})\n",
    "        gen = out.get(\"result\", \"\")\n",
    "        results.append({\n",
    "            \"question\": q,\n",
    "            \"expected_answer\": exp,\n",
    "            \"generated_answer\": gen.strip() if isinstance(gen, str) else gen\n",
    "        })\n",
    "\n",
    "    with open(output_json, 'w', encoding='utf-8') as f:\n",
    "        json.dump(results, f, ensure_ascii=False, indent=4)\n",
    "    print(f\"Guardado: {output_json}\")\n",
    "\n",
    "# Ejecutar procesamiento para ambos conjuntos de preguntas\n",
    "if __name__ == \"__main__\":\n",
    "    process_questions(\"Expert-questions.json\", \"Expert-questions-output.json\")\n",
    "    process_questions(\"Not-expert-questions.json\", \"Not-expert-questions-output.json\")"
   ],
   "metadata": {
    "collapsed": false,
    "ExecuteTime": {
     "end_time": "2025-05-14T14:39:03.227460900Z",
     "start_time": "2025-05-14T14:10:18.832772800Z"
    }
   },
   "id": "b653980cfa1473f1",
   "execution_count": 19
  }
 ],
 "metadata": {
  "kernelspec": {
   "display_name": "Python 3",
   "language": "python",
   "name": "python3"
  },
  "language_info": {
   "codemirror_mode": {
    "name": "ipython",
    "version": 2
   },
   "file_extension": ".py",
   "mimetype": "text/x-python",
   "name": "python",
   "nbconvert_exporter": "python",
   "pygments_lexer": "ipython2",
   "version": "2.7.6"
  }
 },
 "nbformat": 4,
 "nbformat_minor": 5
}
